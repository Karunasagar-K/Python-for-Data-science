{
 "cells": [
  {
   "cell_type": "markdown",
   "id": "41765c95",
   "metadata": {},
   "source": [
    "## Final Call"
   ]
  },
  {
   "cell_type": "code",
   "execution_count": 1,
   "id": "1baa3984",
   "metadata": {},
   "outputs": [],
   "source": [
    "Father = \"Thanthai Periyar\"\n",
    "Mother = \"Aringar Anna\"\n",
    "Saviour = \"Kalaingar\""
   ]
  },
  {
   "cell_type": "code",
   "execution_count": 2,
   "id": "ff24f433",
   "metadata": {},
   "outputs": [
    {
     "name": "stdout",
     "output_type": "stream",
     "text": [
      "Thanthai Periyar\n"
     ]
    }
   ],
   "source": [
    "print(Father)"
   ]
  },
  {
   "cell_type": "code",
   "execution_count": 3,
   "id": "f457f6f7",
   "metadata": {},
   "outputs": [
    {
     "name": "stdout",
     "output_type": "stream",
     "text": [
      "Aringar Anna\n"
     ]
    }
   ],
   "source": [
    "print(Mother)"
   ]
  },
  {
   "cell_type": "code",
   "execution_count": 4,
   "id": "48150b20",
   "metadata": {},
   "outputs": [
    {
     "name": "stdout",
     "output_type": "stream",
     "text": [
      "Kalaingar\n"
     ]
    }
   ],
   "source": [
    "print(Saviour)"
   ]
  },
  {
   "cell_type": "markdown",
   "id": "6399d445",
   "metadata": {},
   "source": [
    "## Variable"
   ]
  },
  {
   "cell_type": "markdown",
   "id": "4b75dd19",
   "metadata": {},
   "source": [
    "* Variable is a memory location where we can store values"
   ]
  },
  {
   "cell_type": "code",
   "execution_count": 6,
   "id": "efe949f0",
   "metadata": {},
   "outputs": [
    {
     "name": "stdout",
     "output_type": "stream",
     "text": [
      "['Periyar', 'Anna', 'Kalaingar', 'Thalapathy']\n"
     ]
    }
   ],
   "source": [
    "Dravidam = [\"Periyar\",\"Anna\",\"Kalaingar\",\"Thalapathy\"]\n",
    "print(Dravidam)"
   ]
  },
  {
   "cell_type": "code",
   "execution_count": 7,
   "id": "49854c5b",
   "metadata": {},
   "outputs": [
    {
     "data": {
      "text/plain": [
       "'Kalaingar'"
      ]
     },
     "execution_count": 7,
     "metadata": {},
     "output_type": "execute_result"
    }
   ],
   "source": [
    "Dravidam[2]"
   ]
  },
  {
   "cell_type": "code",
   "execution_count": 8,
   "id": "c4ff7736",
   "metadata": {},
   "outputs": [
    {
     "data": {
      "text/plain": [
       "4"
      ]
     },
     "execution_count": 8,
     "metadata": {},
     "output_type": "execute_result"
    }
   ],
   "source": [
    "len(Dravidam)"
   ]
  },
  {
   "cell_type": "code",
   "execution_count": 9,
   "id": "1bbcf40c",
   "metadata": {},
   "outputs": [
    {
     "data": {
      "text/plain": [
       "['Periyar', 'Anna', 'Kalaingar', 'Muthuvel Karunanidhi Stalin']"
      ]
     },
     "execution_count": 9,
     "metadata": {},
     "output_type": "execute_result"
    }
   ],
   "source": [
    "Dravidam[3]=\"Muthuvel Karunanidhi Stalin\"\n",
    "Dravidam"
   ]
  },
  {
   "cell_type": "markdown",
   "id": "c8c88051",
   "metadata": {},
   "source": [
    "## Strings"
   ]
  },
  {
   "cell_type": "markdown",
   "id": "c7e69f87",
   "metadata": {},
   "source": [
    "* Strings is nothing but characters enclosed witin the quotes\n",
    "* integer (int) is a numbers\n",
    "* float means decimals "
   ]
  },
  {
   "cell_type": "code",
   "execution_count": 15,
   "id": "f68df739",
   "metadata": {},
   "outputs": [],
   "source": [
    "score = 99\n",
    "rate = 105.95\n",
    "Name = \"KKS\""
   ]
  },
  {
   "cell_type": "code",
   "execution_count": 21,
   "id": "cadf1bc7",
   "metadata": {},
   "outputs": [
    {
     "data": {
      "text/plain": [
       "str"
      ]
     },
     "execution_count": 21,
     "metadata": {},
     "output_type": "execute_result"
    }
   ],
   "source": [
    "type(Name)"
   ]
  },
  {
   "cell_type": "code",
   "execution_count": 19,
   "id": "49680e61",
   "metadata": {},
   "outputs": [
    {
     "data": {
      "text/plain": [
       "float"
      ]
     },
     "execution_count": 19,
     "metadata": {},
     "output_type": "execute_result"
    }
   ],
   "source": [
    "type(rate)"
   ]
  },
  {
   "cell_type": "code",
   "execution_count": 20,
   "id": "635103ba",
   "metadata": {},
   "outputs": [
    {
     "data": {
      "text/plain": [
       "int"
      ]
     },
     "execution_count": 20,
     "metadata": {},
     "output_type": "execute_result"
    }
   ],
   "source": [
    "type(score)"
   ]
  },
  {
   "cell_type": "markdown",
   "id": "e1fe580b",
   "metadata": {},
   "source": [
    "## Pointer - Method/Functions always ends with ()"
   ]
  },
  {
   "cell_type": "code",
   "execution_count": 22,
   "id": "0a9f83a8",
   "metadata": {},
   "outputs": [
    {
     "data": {
      "text/plain": [
       "'Thanthai periyar'"
      ]
     },
     "execution_count": 22,
     "metadata": {},
     "output_type": "execute_result"
    }
   ],
   "source": [
    "Father.capitalize()"
   ]
  },
  {
   "cell_type": "code",
   "execution_count": 24,
   "id": "ac4218c7",
   "metadata": {},
   "outputs": [
    {
     "data": {
      "text/plain": [
       "'THANTHAI PERIYAR'"
      ]
     },
     "execution_count": 24,
     "metadata": {},
     "output_type": "execute_result"
    }
   ],
   "source": [
    "Father.upper()"
   ]
  },
  {
   "cell_type": "code",
   "execution_count": 25,
   "id": "bc8e31f3",
   "metadata": {},
   "outputs": [
    {
     "data": {
      "text/plain": [
       "'thanthai periyar'"
      ]
     },
     "execution_count": 25,
     "metadata": {},
     "output_type": "execute_result"
    }
   ],
   "source": [
    "Father.lower()"
   ]
  },
  {
   "cell_type": "markdown",
   "id": "f2ff43a8",
   "metadata": {},
   "source": [
    "## Concatenation and slicing"
   ]
  },
  {
   "cell_type": "code",
   "execution_count": 29,
   "id": "e611aed3",
   "metadata": {},
   "outputs": [
    {
     "name": "stdout",
     "output_type": "stream",
     "text": [
      "Thanthai Periyar Aringar Anna Kalaingar\n"
     ]
    }
   ],
   "source": [
    "print(Father,Mother,Saviour)"
   ]
  },
  {
   "cell_type": "code",
   "execution_count": 34,
   "id": "1b1b30f0",
   "metadata": {},
   "outputs": [
    {
     "name": "stdout",
     "output_type": "stream",
     "text": [
      "Father:  Thanthai Periyar \n",
      "Mother:  Aringar Anna \n",
      "Saviour:  Kalaingar\n"
     ]
    }
   ],
   "source": [
    "print(\"Father: \",Father,\"\\nMother: \",Mother,\"\\nSaviour: \",Saviour)"
   ]
  },
  {
   "cell_type": "code",
   "execution_count": 35,
   "id": "debee074",
   "metadata": {},
   "outputs": [],
   "source": [
    "Quote = \"Carry on but remember\""
   ]
  },
  {
   "cell_type": "code",
   "execution_count": 37,
   "id": "238ce8e2",
   "metadata": {},
   "outputs": [
    {
     "data": {
      "text/plain": [
       "' on but remember'"
      ]
     },
     "execution_count": 37,
     "metadata": {},
     "output_type": "execute_result"
    }
   ],
   "source": [
    "Quote[5:]"
   ]
  },
  {
   "cell_type": "code",
   "execution_count": 43,
   "id": "454eefec",
   "metadata": {},
   "outputs": [
    {
     "data": {
      "text/plain": [
       "'Carry on but'"
      ]
     },
     "execution_count": 43,
     "metadata": {},
     "output_type": "execute_result"
    }
   ],
   "source": [
    "Quote[:12]"
   ]
  },
  {
   "cell_type": "code",
   "execution_count": 44,
   "id": "03236699",
   "metadata": {},
   "outputs": [
    {
     "data": {
      "text/plain": [
       "9"
      ]
     },
     "execution_count": 44,
     "metadata": {},
     "output_type": "execute_result"
    }
   ],
   "source": [
    "Quote.find(\"but\")"
   ]
  },
  {
   "cell_type": "code",
   "execution_count": 46,
   "id": "ac670bb1",
   "metadata": {},
   "outputs": [
    {
     "name": "stdout",
     "output_type": "stream",
     "text": [
      "DMK came back to power after 10years of opposition in the yaer of 2021\n"
     ]
    }
   ],
   "source": [
    "year=2021\n",
    "Party=\"DMK\"\n",
    "print(Party,\"came back to power after 10years of opposition in the yaer of\",year)"
   ]
  },
  {
   "cell_type": "markdown",
   "id": "6e599ebf",
   "metadata": {},
   "source": [
    "## Interact with input"
   ]
  },
  {
   "cell_type": "code",
   "execution_count": 54,
   "id": "bfe4dd5d",
   "metadata": {},
   "outputs": [
    {
     "name": "stdout",
     "output_type": "stream",
     "text": [
      "username:LOD\n"
     ]
    }
   ],
   "source": [
    "username= input(\"username:\")"
   ]
  },
  {
   "cell_type": "code",
   "execution_count": 55,
   "id": "4ee95698",
   "metadata": {},
   "outputs": [
    {
     "name": "stdout",
     "output_type": "stream",
     "text": [
      "Username starts with L\n"
     ]
    }
   ],
   "source": [
    "print(\"Username starts with\",username[0])"
   ]
  },
  {
   "cell_type": "markdown",
   "id": "03f16194",
   "metadata": {},
   "source": [
    "## Streamline"
   ]
  },
  {
   "cell_type": "code",
   "execution_count": 59,
   "id": "dcc97fe1",
   "metadata": {},
   "outputs": [
    {
     "name": "stdout",
     "output_type": "stream",
     "text": [
      "Enter your First name:Karunasagar\n",
      "Enter your Last name:K\n",
      "First name-Karunasagar \n",
      " last name-K\n",
      "Karunasagar K\n"
     ]
    }
   ],
   "source": [
    "fname=input(\"Enter your First name:\")\n",
    "lname=input(\"Enter your Last name:\")\n",
    "print('First name-{} \\n last name-{}'.format(fname,lname))\n",
    "print(fname,lname)"
   ]
  },
  {
   "cell_type": "markdown",
   "id": "5e6b14cc",
   "metadata": {},
   "source": [
    "## Numbers in python"
   ]
  },
  {
   "cell_type": "code",
   "execution_count": 72,
   "id": "fbf01fb9",
   "metadata": {},
   "outputs": [
    {
     "name": "stdout",
     "output_type": "stream",
     "text": [
      "Enter the marks:-58\n"
     ]
    }
   ],
   "source": [
    "marks= int(input(\"Enter the marks:\"))"
   ]
  },
  {
   "cell_type": "code",
   "execution_count": 73,
   "id": "89dd1c14",
   "metadata": {},
   "outputs": [
    {
     "data": {
      "text/plain": [
       "int"
      ]
     },
     "execution_count": 73,
     "metadata": {},
     "output_type": "execute_result"
    }
   ],
   "source": [
    "type(marks)"
   ]
  },
  {
   "cell_type": "code",
   "execution_count": 74,
   "id": "f36d4d12",
   "metadata": {},
   "outputs": [
    {
     "name": "stdout",
     "output_type": "stream",
     "text": [
      "Enter the marks:-98\n"
     ]
    }
   ],
   "source": [
    "marks= abs(int(input(\"Enter the marks:\")))"
   ]
  },
  {
   "cell_type": "code",
   "execution_count": 75,
   "id": "fbcbc00f",
   "metadata": {},
   "outputs": [
    {
     "name": "stdout",
     "output_type": "stream",
     "text": [
      "98\n"
     ]
    }
   ],
   "source": [
    "print(marks)"
   ]
  },
  {
   "cell_type": "code",
   "execution_count": null,
   "id": "dbf7d728",
   "metadata": {},
   "outputs": [],
   "source": []
  }
 ],
 "metadata": {
  "kernelspec": {
   "display_name": "Python 3 (ipykernel)",
   "language": "python",
   "name": "python3"
  },
  "language_info": {
   "codemirror_mode": {
    "name": "ipython",
    "version": 3
   },
   "file_extension": ".py",
   "mimetype": "text/x-python",
   "name": "python",
   "nbconvert_exporter": "python",
   "pygments_lexer": "ipython3",
   "version": "3.9.7"
  }
 },
 "nbformat": 4,
 "nbformat_minor": 5
}
