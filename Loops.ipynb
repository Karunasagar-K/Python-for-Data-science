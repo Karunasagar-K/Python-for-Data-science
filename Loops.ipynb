{
 "cells": [
  {
   "cell_type": "markdown",
   "id": "ee7b248f",
   "metadata": {},
   "source": [
    "### For Loop"
   ]
  },
  {
   "cell_type": "code",
   "execution_count": 18,
   "id": "6e61b22c",
   "metadata": {},
   "outputs": [
    {
     "name": "stdout",
     "output_type": "stream",
     "text": [
      "Handball\n",
      "Cricket\n",
      "Tennis\n"
     ]
    }
   ],
   "source": [
    "Games=[\"Handball\",\"Cricket\",\"Tennis\"]\n",
    "for i in Games:\n",
    "    print(i)"
   ]
  },
  {
   "cell_type": "markdown",
   "id": "cb475a19",
   "metadata": {},
   "source": [
    "* Looping Through a String\n",
    "* Even strings are iterable objects, they contain a sequence of characters:"
   ]
  },
  {
   "cell_type": "code",
   "execution_count": 33,
   "id": "356ef8b6",
   "metadata": {},
   "outputs": [
    {
     "name": "stdout",
     "output_type": "stream",
     "text": [
      "b\n",
      "a\n",
      "n\n",
      "a\n",
      "n\n",
      "a\n"
     ]
    }
   ],
   "source": [
    "for x in \"banana\":\n",
    "  print(x)"
   ]
  },
  {
   "cell_type": "markdown",
   "id": "83154f7a",
   "metadata": {},
   "source": [
    "* The break Statement\n",
    "* With the break statement we can stop the loop before it has looped through all the items:"
   ]
  },
  {
   "cell_type": "code",
   "execution_count": 35,
   "id": "d5f42b77",
   "metadata": {},
   "outputs": [
    {
     "name": "stdout",
     "output_type": "stream",
     "text": [
      "apple\n",
      "banana\n"
     ]
    }
   ],
   "source": [
    "fruits = [\"apple\", \"banana\", \"cherry\"]\n",
    "for x in fruits:\n",
    "  print(x)\n",
    "  if x == \"banana\":\n",
    "    break"
   ]
  },
  {
   "cell_type": "code",
   "execution_count": 36,
   "id": "b5084c72",
   "metadata": {},
   "outputs": [
    {
     "name": "stdout",
     "output_type": "stream",
     "text": [
      "apple\n"
     ]
    }
   ],
   "source": [
    "fruits = [\"apple\", \"banana\", \"cherry\"]\n",
    "for x in fruits:\n",
    "  if x == \"banana\":\n",
    "    break\n",
    "  print(x)"
   ]
  },
  {
   "cell_type": "markdown",
   "id": "7f378496",
   "metadata": {},
   "source": [
    "* The continue Statement\n",
    "* With the continue statement we can stop the current iteration of the loop, and continue with the next"
   ]
  },
  {
   "cell_type": "code",
   "execution_count": 37,
   "id": "a2f5f6fa",
   "metadata": {},
   "outputs": [
    {
     "name": "stdout",
     "output_type": "stream",
     "text": [
      "apple\n",
      "cherry\n"
     ]
    }
   ],
   "source": [
    "fruits = [\"apple\", \"banana\", \"cherry\"]\n",
    "for x in fruits:\n",
    "  if x == \"banana\":\n",
    "    continue\n",
    "  print(x)"
   ]
  },
  {
   "cell_type": "markdown",
   "id": "30766901",
   "metadata": {},
   "source": [
    "## The range() Function\n",
    "* To loop through a set of code a specified number of times, we can use the range() function,\n",
    "* The range() function returns a sequence of numbers, starting from 0 by default, and increments by 1 (by default), and ends at a specified number."
   ]
  },
  {
   "cell_type": "code",
   "execution_count": 23,
   "id": "7e9755ba",
   "metadata": {},
   "outputs": [
    {
     "name": "stdout",
     "output_type": "stream",
     "text": [
      "0\n",
      "1\n",
      "2\n",
      "3\n",
      "4\n",
      "5\n"
     ]
    }
   ],
   "source": [
    "for x in range(6):\n",
    "  print(x)"
   ]
  },
  {
   "cell_type": "code",
   "execution_count": 24,
   "id": "65ee893e",
   "metadata": {},
   "outputs": [
    {
     "name": "stdout",
     "output_type": "stream",
     "text": [
      "2\n",
      "3\n",
      "4\n",
      "5\n"
     ]
    }
   ],
   "source": [
    "for x in range(2, 6):\n",
    "  print(x)\n"
   ]
  },
  {
   "cell_type": "code",
   "execution_count": 45,
   "id": "08c5aaaa",
   "metadata": {},
   "outputs": [
    {
     "name": "stdout",
     "output_type": "stream",
     "text": [
      "1\n",
      "6\n",
      "11\n",
      "16\n"
     ]
    }
   ],
   "source": [
    "for x in range(1,20,5):\n",
    "  print(x)"
   ]
  },
  {
   "cell_type": "markdown",
   "id": "c81e061b",
   "metadata": {},
   "source": [
    "### Else in For Loop\n",
    "* The else keyword in a for loop specifies a block of code to be executed when the loop is finished:"
   ]
  },
  {
   "cell_type": "code",
   "execution_count": 25,
   "id": "62544e98",
   "metadata": {},
   "outputs": [
    {
     "name": "stdout",
     "output_type": "stream",
     "text": [
      "0\n",
      "1\n",
      "2\n",
      "3\n",
      "4\n",
      "5\n",
      "Finally finished!\n"
     ]
    }
   ],
   "source": [
    "for x in range(6):\n",
    "  print(x)\n",
    "else:\n",
    "  print(\"Finally finished!\")"
   ]
  },
  {
   "cell_type": "code",
   "execution_count": 46,
   "id": "89768cf5",
   "metadata": {},
   "outputs": [
    {
     "name": "stdout",
     "output_type": "stream",
     "text": [
      "0\n",
      "1\n",
      "2\n"
     ]
    }
   ],
   "source": [
    "#Break the loop when x is 3, and see what happens with the else block:\n",
    "for x in range(6):\n",
    "  if x == 3:\n",
    "    break\n",
    "  print(x)\n",
    "else:\n",
    "  print(\"Finally finished!\")"
   ]
  },
  {
   "cell_type": "markdown",
   "id": "a388b91b",
   "metadata": {},
   "source": [
    "### Nested Loops\n",
    "* A nested loop is a loop inside a loop."
   ]
  },
  {
   "cell_type": "code",
   "execution_count": 30,
   "id": "646883f7",
   "metadata": {},
   "outputs": [
    {
     "name": "stdout",
     "output_type": "stream",
     "text": [
      "red apple\n",
      "red banana\n",
      "red cherry\n",
      "big apple\n",
      "big banana\n",
      "big cherry\n",
      "tasty apple\n",
      "tasty banana\n",
      "tasty cherry\n"
     ]
    }
   ],
   "source": [
    "adj = [\"red\", \"big\", \"tasty\"]\n",
    "fruits = [\"apple\", \"banana\", \"cherry\"]\n",
    "\n",
    "for x in adj:\n",
    "  for y in fruits:\n",
    "    print(x, y)\n"
   ]
  },
  {
   "cell_type": "markdown",
   "id": "f6f2094b",
   "metadata": {},
   "source": [
    "### The pass Statement\n",
    "* for loops cannot be empty, but if you for some reason have a for loop with no content, put in the pass statement to avoid getting an error."
   ]
  },
  {
   "cell_type": "code",
   "execution_count": 32,
   "id": "be13d1cb",
   "metadata": {},
   "outputs": [],
   "source": [
    "for x in [0, 1, 2]:\n",
    "  pass"
   ]
  },
  {
   "cell_type": "markdown",
   "id": "e65fe430",
   "metadata": {},
   "source": [
    "### The while Loop\n",
    "* With the while loop we can execute a set of statements as long as a condition is true."
   ]
  },
  {
   "cell_type": "code",
   "execution_count": 5,
   "id": "b817e83d",
   "metadata": {},
   "outputs": [
    {
     "name": "stdout",
     "output_type": "stream",
     "text": [
      "1\n",
      "2\n",
      "3\n"
     ]
    }
   ],
   "source": [
    "i=1\n",
    "while i<4:\n",
    "    print(i)\n",
    "    i+=1"
   ]
  },
  {
   "cell_type": "markdown",
   "id": "bf16a278",
   "metadata": {},
   "source": [
    "### The break Statement\n",
    "* With the break statement we can stop the loop even if the while condition is true:"
   ]
  },
  {
   "cell_type": "code",
   "execution_count": 11,
   "id": "22827a61",
   "metadata": {},
   "outputs": [
    {
     "name": "stdout",
     "output_type": "stream",
     "text": [
      "1\n",
      "2\n",
      "3\n"
     ]
    }
   ],
   "source": [
    "i=1\n",
    "while i<5:\n",
    "    print(i)\n",
    "    if i==3:\n",
    "      break  \n",
    "    i+=1"
   ]
  },
  {
   "cell_type": "markdown",
   "id": "3f8a036e",
   "metadata": {},
   "source": [
    "### The continue Statement\n",
    "* With the continue statement we can stop the current iteration, and continue with the next:"
   ]
  },
  {
   "cell_type": "code",
   "execution_count": 14,
   "id": "a6bf1298",
   "metadata": {},
   "outputs": [
    {
     "name": "stdout",
     "output_type": "stream",
     "text": [
      "1\n",
      "2\n",
      "4\n",
      "5\n",
      "6\n"
     ]
    }
   ],
   "source": [
    "i = 0\n",
    "while i < 6:\n",
    "  i += 1\n",
    "  if i == 3:\n",
    "    continue\n",
    "  print(i)"
   ]
  },
  {
   "cell_type": "markdown",
   "id": "4f27d1b8",
   "metadata": {},
   "source": [
    "### The else Statement\n",
    "* With the else statement we can run a block of code once when the condition no longer is true:"
   ]
  },
  {
   "cell_type": "code",
   "execution_count": 16,
   "id": "b31c27cd",
   "metadata": {},
   "outputs": [
    {
     "name": "stdout",
     "output_type": "stream",
     "text": [
      "1\n",
      "2\n",
      "3\n",
      "4\n",
      "5\n",
      "i is no longer less than 6\n"
     ]
    }
   ],
   "source": [
    "i = 1\n",
    "while i < 6:\n",
    "  print(i)\n",
    "  i += 1\n",
    "else:\n",
    "  print(\"i is no longer less than 6\")"
   ]
  },
  {
   "cell_type": "markdown",
   "id": "10fbb0d5",
   "metadata": {},
   "source": [
    "## Assignments"
   ]
  },
  {
   "cell_type": "markdown",
   "id": "e0aae017",
   "metadata": {},
   "source": [
    "### 1.While Loops"
   ]
  },
  {
   "cell_type": "code",
   "execution_count": 4,
   "id": "6eb6066f",
   "metadata": {},
   "outputs": [
    {
     "name": "stdout",
     "output_type": "stream",
     "text": [
      "28\n",
      "29\n"
     ]
    }
   ],
   "source": [
    "i=28 \n",
    "while i<30:\n",
    "    print(i)\n",
    "    i=i+1"
   ]
  },
  {
   "cell_type": "code",
   "execution_count": 5,
   "id": "c5b9dc38",
   "metadata": {},
   "outputs": [
    {
     "name": "stdout",
     "output_type": "stream",
     "text": [
      "28\n",
      "29\n",
      "30\n",
      "31\n",
      "32\n"
     ]
    }
   ],
   "source": [
    "i=28\n",
    "while i<35:\n",
    "    print(i)\n",
    "    if i==32:\n",
    "        break\n",
    "    i=i+1"
   ]
  },
  {
   "cell_type": "markdown",
   "id": "7053d15d",
   "metadata": {},
   "source": [
    "### 2.For Loops"
   ]
  },
  {
   "cell_type": "code",
   "execution_count": 7,
   "id": "e3434fa7",
   "metadata": {},
   "outputs": [
    {
     "name": "stdout",
     "output_type": "stream",
     "text": [
      "Handball\n",
      "Hockey\n",
      "Badmiton\n",
      "Cricket\n"
     ]
    }
   ],
   "source": [
    "team=[\"Handball\",\"Hockey\",\"Badmiton\",\"Cricket\"]\n",
    "\n",
    "for k in team:\n",
    "    print(k)"
   ]
  },
  {
   "cell_type": "code",
   "execution_count": 13,
   "id": "539bc211",
   "metadata": {},
   "outputs": [
    {
     "name": "stdout",
     "output_type": "stream",
     "text": [
      "Handball\n",
      "Hockey\n",
      "Badmiton\n"
     ]
    }
   ],
   "source": [
    "for k in team:\n",
    "    print(k)\n",
    "    if k==\"Badmiton\":\n",
    "     break"
   ]
  },
  {
   "cell_type": "code",
   "execution_count": 15,
   "id": "1d4ac37a",
   "metadata": {},
   "outputs": [
    {
     "name": "stdout",
     "output_type": "stream",
     "text": [
      "Handball\n",
      "Hockey\n"
     ]
    }
   ],
   "source": [
    "for k in team:\n",
    "    if k==\"Badmiton\":\n",
    "        break\n",
    "    print(k)"
   ]
  },
  {
   "cell_type": "markdown",
   "id": "6a0a434c",
   "metadata": {},
   "source": [
    "### 3.If else"
   ]
  },
  {
   "cell_type": "code",
   "execution_count": 2,
   "id": "d2717dc9",
   "metadata": {},
   "outputs": [
    {
     "name": "stdout",
     "output_type": "stream",
     "text": [
      "Enter the number:100\n",
      "Enter the number:0\n",
      "Addition of 100 and 0 is 100.Hence it is not greater than 100\n"
     ]
    }
   ],
   "source": [
    "a= int(input(\"Enter the number:\"))\n",
    "b= int(input(\"Enter the number:\"))\n",
    "c=a+b\n",
    "if c>100:\n",
    "    print(\"Addition of {} and {} is {}.Hence it is greater than 100\".format(a,b,c))\n",
    "else:\n",
    "    print(\"Addition of {} and {} is {}.Hence it is not greater than 100\".format(a,b,c))"
   ]
  },
  {
   "cell_type": "code",
   "execution_count": 4,
   "id": "6a4927eb",
   "metadata": {},
   "outputs": [
    {
     "name": "stdout",
     "output_type": "stream",
     "text": [
      "Enter the text:Karunasagar\n",
      "Length\n"
     ]
    }
   ],
   "source": [
    "a= input(\"Enter the text:\")\n",
    "if len(a)<5:\n",
    "    print(\"Short\")\n",
    "else:\n",
    "    print(\"Length\")"
   ]
  },
  {
   "cell_type": "markdown",
   "id": "c79a49fa",
   "metadata": {},
   "source": [
    "### 4.If elif else"
   ]
  },
  {
   "cell_type": "code",
   "execution_count": 19,
   "id": "1bf6fef5",
   "metadata": {},
   "outputs": [
    {
     "name": "stdout",
     "output_type": "stream",
     "text": [
      "Enter the age:18\n",
      "You have right to vote\n"
     ]
    }
   ],
   "source": [
    "age=int(input(\"Enter the age:\"))\n",
    "if age>18:\n",
    "    print(\"You have right to vote\")\n",
    "elif age==18:\n",
    "    print(\"You have right to vote\")\n",
    "else:\n",
    "    print(\"You have no right to vote\")"
   ]
  },
  {
   "cell_type": "markdown",
   "id": "c7b0c3b4",
   "metadata": {},
   "source": [
    "## 5.User defined functions"
   ]
  },
  {
   "cell_type": "code",
   "execution_count": 6,
   "id": "060236bf",
   "metadata": {},
   "outputs": [],
   "source": [
    "def details(name,game,age):\n",
    "    print(\"Name:\",name)\n",
    "    print(\"Game:\",game)\n",
    "    print(\"Age:\",age)"
   ]
  },
  {
   "cell_type": "code",
   "execution_count": 7,
   "id": "b21ccc41",
   "metadata": {},
   "outputs": [
    {
     "name": "stdout",
     "output_type": "stream",
     "text": [
      "Name: Karunasagar\n",
      "Game: Handball\n",
      "Age: 26\n"
     ]
    }
   ],
   "source": [
    "details(\"Karunasagar\",\"Handball\",26)"
   ]
  },
  {
   "cell_type": "code",
   "execution_count": 10,
   "id": "e63cf249",
   "metadata": {},
   "outputs": [],
   "source": [
    "def details(name,game,experience):\n",
    "    print(\"{} playing a {} for {} years\".format(name,game,experience))\n",
    "    "
   ]
  },
  {
   "cell_type": "code",
   "execution_count": 11,
   "id": "e86e206a",
   "metadata": {},
   "outputs": [
    {
     "name": "stdout",
     "output_type": "stream",
     "text": [
      "Karunasagar playing a Handball for 14 years\n"
     ]
    }
   ],
   "source": [
    "details(\"Karunasagar\",\"Handball\",14)"
   ]
  },
  {
   "cell_type": "markdown",
   "id": "87261272",
   "metadata": {},
   "source": [
    "### 6.User defined function with for loop"
   ]
  },
  {
   "cell_type": "code",
   "execution_count": 18,
   "id": "f362cb67",
   "metadata": {},
   "outputs": [],
   "source": [
    "def captains(name):\n",
    "    for i in name:\n",
    "        print(i)"
   ]
  },
  {
   "cell_type": "code",
   "execution_count": 19,
   "id": "f0daefde",
   "metadata": {},
   "outputs": [
    {
     "name": "stdout",
     "output_type": "stream",
     "text": [
      "M\n",
      ".\n",
      "S\n",
      ".\n",
      "D\n",
      "h\n",
      "o\n",
      "n\n",
      "i\n"
     ]
    }
   ],
   "source": [
    "captains(\"M.S.Dhoni\")"
   ]
  },
  {
   "cell_type": "code",
   "execution_count": 30,
   "id": "86578264",
   "metadata": {},
   "outputs": [],
   "source": [
    "def num(nums):\n",
    "    for k in range (nums):\n",
    "        print(k)\n",
    "    else:\n",
    "            print(\"End for the loop\")"
   ]
  },
  {
   "cell_type": "code",
   "execution_count": 31,
   "id": "fd980336",
   "metadata": {},
   "outputs": [
    {
     "name": "stdout",
     "output_type": "stream",
     "text": [
      "0\n",
      "1\n",
      "2\n",
      "3\n",
      "End for the loop\n"
     ]
    }
   ],
   "source": [
    "num(4)"
   ]
  },
  {
   "cell_type": "code",
   "execution_count": 42,
   "id": "4408ff3b",
   "metadata": {},
   "outputs": [],
   "source": [
    "def value(number):\n",
    "    if number%2==0:\n",
    "        print(\"{} is an even number\".format(number))\n",
    "    else:\n",
    "        print(\"{} is an odd number\".format(number))"
   ]
  },
  {
   "cell_type": "code",
   "execution_count": 43,
   "id": "27e95f88",
   "metadata": {},
   "outputs": [
    {
     "name": "stdout",
     "output_type": "stream",
     "text": [
      "2 is an even number\n"
     ]
    }
   ],
   "source": [
    "value(2)"
   ]
  },
  {
   "cell_type": "code",
   "execution_count": 49,
   "id": "43c24dfd",
   "metadata": {},
   "outputs": [],
   "source": [
    "def age(years):\n",
    "    if years>=60:\n",
    "        print(\"Age is {} then He must a senior citizen\".format(years))\n",
    "    elif years>=20:\n",
    "        print(\"Age is {} then He must be a teen\".format(years))\n",
    "    else:\n",
    "        print(\"Age is {} then He must be child\".format(years))"
   ]
  },
  {
   "cell_type": "code",
   "execution_count": 48,
   "id": "342d3682",
   "metadata": {},
   "outputs": [
    {
     "name": "stdout",
     "output_type": "stream",
     "text": [
      "Age is 60 then He must a senior citi \n"
     ]
    }
   ],
   "source": [
    "age(60)"
   ]
  },
  {
   "cell_type": "markdown",
   "id": "2d1feb9d",
   "metadata": {},
   "source": [
    "### 8.Break"
   ]
  },
  {
   "cell_type": "code",
   "execution_count": 56,
   "id": "0ce329e4",
   "metadata": {},
   "outputs": [
    {
     "name": "stdout",
     "output_type": "stream",
     "text": [
      "1\n",
      "2\n"
     ]
    }
   ],
   "source": [
    "i=1\n",
    "while i<10:\n",
    "    if i==3:\n",
    "        break\n",
    "    print(i)\n",
    "    i=i+1\n",
    "#if i==3:\n",
    " #   break\n"
   ]
  },
  {
   "cell_type": "code",
   "execution_count": 65,
   "id": "90f040d7",
   "metadata": {},
   "outputs": [
    {
     "name": "stdout",
     "output_type": "stream",
     "text": [
      "1\n",
      "2\n"
     ]
    }
   ],
   "source": [
    "for m in range(1,10):\n",
    "    if m%3 ==0:\n",
    "        break\n",
    "    print(m)"
   ]
  },
  {
   "cell_type": "markdown",
   "id": "b98c010f",
   "metadata": {},
   "source": [
    "### 9.Continue"
   ]
  },
  {
   "cell_type": "code",
   "execution_count": 4,
   "id": "96a1742a",
   "metadata": {},
   "outputs": [
    {
     "name": "stdout",
     "output_type": "stream",
     "text": [
      "1\n",
      "3\n",
      "5\n",
      "7\n",
      "9\n"
     ]
    }
   ],
   "source": [
    "i=0\n",
    "while i<10:\n",
    "    i=i+1\n",
    "    if i%2==0:\n",
    "        continue\n",
    "    print(i)"
   ]
  },
  {
   "cell_type": "code",
   "execution_count": 5,
   "id": "3452cc8f",
   "metadata": {},
   "outputs": [
    {
     "name": "stdout",
     "output_type": "stream",
     "text": [
      "1\n",
      "2\n",
      "4\n",
      "5\n"
     ]
    }
   ],
   "source": [
    "i = 0\n",
    "while i < 6:\n",
    "  i += 1\n",
    "  if i%3==0:\n",
    "    continue\n",
    "  print(i)"
   ]
  },
  {
   "cell_type": "markdown",
   "id": "d61b5d15",
   "metadata": {},
   "source": [
    "### 10.for loop with in operator"
   ]
  },
  {
   "cell_type": "code",
   "execution_count": 12,
   "id": "65d68936",
   "metadata": {},
   "outputs": [
    {
     "name": "stdout",
     "output_type": "stream",
     "text": [
      "Karuna 8\n",
      "Senthil 8\n",
      "Kamesh 8\n"
     ]
    }
   ],
   "source": [
    "name=[\"Karuna\",\"Senthil\",\"Kamesh\"]\n",
    "goals=[8]\n",
    "for k in name:\n",
    "    for n in goals:\n",
    "        print(k,n)"
   ]
  },
  {
   "cell_type": "code",
   "execution_count": 16,
   "id": "3e998afb",
   "metadata": {},
   "outputs": [
    {
     "name": "stdout",
     "output_type": "stream",
     "text": [
      "1\n",
      "4\n",
      "7\n"
     ]
    }
   ],
   "source": [
    "for j in range(1,10,3):\n",
    "    print(j)"
   ]
  },
  {
   "cell_type": "markdown",
   "id": "f7d69086",
   "metadata": {},
   "source": [
    "### 11.for loop with if statement"
   ]
  },
  {
   "cell_type": "code",
   "execution_count": 23,
   "id": "7882e4e0",
   "metadata": {},
   "outputs": [
    {
     "name": "stdout",
     "output_type": "stream",
     "text": [
      "Karuna\n",
      "Senthil\n"
     ]
    }
   ],
   "source": [
    "name=[\"Karuna\",\"Senthil\",\"Kamesh\"]\n",
    "for x in name:\n",
    "    if x==\"Kamesh\":\n",
    "        break\n",
    "    print(x)"
   ]
  },
  {
   "cell_type": "code",
   "execution_count": 25,
   "id": "a78c5c15",
   "metadata": {},
   "outputs": [
    {
     "name": "stdout",
     "output_type": "stream",
     "text": [
      "Senthil\n",
      "Kamesh\n"
     ]
    }
   ],
   "source": [
    "name=[\"Karuna\",\"Senthil\",\"Kamesh\"]\n",
    "for x in name:\n",
    "    if x==\"Karuna\":\n",
    "        continue\n",
    "    print(x)"
   ]
  }
 ],
 "metadata": {
  "kernelspec": {
   "display_name": "Python 3 (ipykernel)",
   "language": "python",
   "name": "python3"
  },
  "language_info": {
   "codemirror_mode": {
    "name": "ipython",
    "version": 3
   },
   "file_extension": ".py",
   "mimetype": "text/x-python",
   "name": "python",
   "nbconvert_exporter": "python",
   "pygments_lexer": "ipython3",
   "version": "3.9.7"
  }
 },
 "nbformat": 4,
 "nbformat_minor": 5
}
