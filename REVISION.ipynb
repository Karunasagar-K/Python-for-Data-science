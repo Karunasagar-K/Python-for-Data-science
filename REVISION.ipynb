{
 "cells": [
  {
   "cell_type": "markdown",
   "id": "824796e8",
   "metadata": {},
   "source": [
    "### Revision"
   ]
  },
  {
   "cell_type": "markdown",
   "id": "e09365ee",
   "metadata": {},
   "source": [
    "### 1.Python Introduction"
   ]
  },
  {
   "cell_type": "code",
   "execution_count": 1,
   "id": "7648d726",
   "metadata": {},
   "outputs": [
    {
     "name": "stdout",
     "output_type": "stream",
     "text": [
      "Kalaingar\n"
     ]
    }
   ],
   "source": [
    "print('Kalaingar')"
   ]
  },
  {
   "cell_type": "code",
   "execution_count": 2,
   "id": "cb6bb9a6",
   "metadata": {},
   "outputs": [
    {
     "name": "stdout",
     "output_type": "stream",
     "text": [
      "Anna\n"
     ]
    }
   ],
   "source": [
    "print(\"Anna\")"
   ]
  },
  {
   "cell_type": "code",
   "execution_count": 3,
   "id": "0e6b0ac5",
   "metadata": {},
   "outputs": [
    {
     "name": "stdout",
     "output_type": "stream",
     "text": [
      "Periyar\n"
     ]
    }
   ],
   "source": [
    "print('''Periyar''')"
   ]
  },
  {
   "cell_type": "markdown",
   "id": "fd4b0534",
   "metadata": {},
   "source": [
    "### 2.Creating a variable"
   ]
  },
  {
   "cell_type": "markdown",
   "id": "bfde576b",
   "metadata": {},
   "source": [
    "### Variable is nothing but a memory location to store the values"
   ]
  },
  {
   "cell_type": "code",
   "execution_count": 4,
   "id": "499a2ef6",
   "metadata": {},
   "outputs": [],
   "source": [
    "Aringar= \"C.N.Annadurai\""
   ]
  },
  {
   "cell_type": "code",
   "execution_count": 5,
   "id": "ff25c262",
   "metadata": {},
   "outputs": [],
   "source": [
    "Thanthai= \"Periyar\""
   ]
  },
  {
   "cell_type": "code",
   "execution_count": 6,
   "id": "f40a53c1",
   "metadata": {},
   "outputs": [],
   "source": [
    "Kalaingar=\"Karunanidhi\""
   ]
  },
  {
   "cell_type": "code",
   "execution_count": 7,
   "id": "dcee232e",
   "metadata": {},
   "outputs": [],
   "source": [
    "Parties=[\"DMK\",\"ADMK\",\"MDMK\",\"VCK\",\"CPIM\"]"
   ]
  },
  {
   "cell_type": "code",
   "execution_count": 8,
   "id": "e6927382",
   "metadata": {},
   "outputs": [
    {
     "data": {
      "text/plain": [
       "'DMK'"
      ]
     },
     "execution_count": 8,
     "metadata": {},
     "output_type": "execute_result"
    }
   ],
   "source": [
    "Parties[0]"
   ]
  },
  {
   "cell_type": "code",
   "execution_count": 9,
   "id": "f7ed4621",
   "metadata": {},
   "outputs": [],
   "source": [
    "Parties[1]=\"BJP\""
   ]
  },
  {
   "cell_type": "code",
   "execution_count": 10,
   "id": "2b5166c6",
   "metadata": {},
   "outputs": [
    {
     "data": {
      "text/plain": [
       "['DMK', 'BJP', 'MDMK', 'VCK', 'CPIM']"
      ]
     },
     "execution_count": 10,
     "metadata": {},
     "output_type": "execute_result"
    }
   ],
   "source": [
    "Parties"
   ]
  },
  {
   "cell_type": "code",
   "execution_count": 11,
   "id": "a8645573",
   "metadata": {},
   "outputs": [
    {
     "data": {
      "text/plain": [
       "5"
      ]
     },
     "execution_count": 11,
     "metadata": {},
     "output_type": "execute_result"
    }
   ],
   "source": [
    "len(Parties)"
   ]
  },
  {
   "cell_type": "markdown",
   "id": "52778417",
   "metadata": {},
   "source": [
    "### Chapter.2 Data types"
   ]
  },
  {
   "cell_type": "markdown",
   "id": "dbbbe89c",
   "metadata": {},
   "source": [
    "### Data types-3 types\n",
    "\n",
    "### int - numbers without decimals\n",
    "### float-numbers with decimals\n",
    "### string-enclosed within the quotes"
   ]
  },
  {
   "cell_type": "code",
   "execution_count": 12,
   "id": "1b6402b1",
   "metadata": {},
   "outputs": [],
   "source": [
    "score=80"
   ]
  },
  {
   "cell_type": "code",
   "execution_count": 13,
   "id": "7ad16216",
   "metadata": {},
   "outputs": [
    {
     "data": {
      "text/plain": [
       "int"
      ]
     },
     "execution_count": 13,
     "metadata": {},
     "output_type": "execute_result"
    }
   ],
   "source": [
    "type(score)"
   ]
  },
  {
   "cell_type": "code",
   "execution_count": 14,
   "id": "f15e1a99",
   "metadata": {},
   "outputs": [
    {
     "data": {
      "text/plain": [
       "float"
      ]
     },
     "execution_count": 14,
     "metadata": {},
     "output_type": "execute_result"
    }
   ],
   "source": [
    "score=80.5\n",
    "type(score)"
   ]
  },
  {
   "cell_type": "code",
   "execution_count": 15,
   "id": "a14d9cc8",
   "metadata": {},
   "outputs": [
    {
     "data": {
      "text/plain": [
       "str"
      ]
     },
     "execution_count": 15,
     "metadata": {},
     "output_type": "execute_result"
    }
   ],
   "source": [
    "type(\"Arinagar\")"
   ]
  },
  {
   "cell_type": "markdown",
   "id": "f3e43780",
   "metadata": {},
   "source": [
    "### Functions-Operations which i want to perform on my data"
   ]
  },
  {
   "cell_type": "code",
   "execution_count": 16,
   "id": "01bb57e3",
   "metadata": {},
   "outputs": [],
   "source": [
    "name=\"Karunasagar\""
   ]
  },
  {
   "cell_type": "code",
   "execution_count": 17,
   "id": "a13fa75c",
   "metadata": {},
   "outputs": [
    {
     "name": "stdout",
     "output_type": "stream",
     "text": [
      "KARUNASAGAR\n"
     ]
    }
   ],
   "source": [
    "print(name.upper())"
   ]
  },
  {
   "cell_type": "code",
   "execution_count": 18,
   "id": "c7c9dd0c",
   "metadata": {},
   "outputs": [
    {
     "data": {
      "text/plain": [
       "'Karunasagar'"
      ]
     },
     "execution_count": 18,
     "metadata": {},
     "output_type": "execute_result"
    }
   ],
   "source": [
    "name.capitalize()"
   ]
  },
  {
   "cell_type": "code",
   "execution_count": 19,
   "id": "5dd80d21",
   "metadata": {},
   "outputs": [
    {
     "data": {
      "text/plain": [
       "'karunasagar'"
      ]
     },
     "execution_count": 19,
     "metadata": {},
     "output_type": "execute_result"
    }
   ],
   "source": [
    "name.lower()"
   ]
  },
  {
   "cell_type": "markdown",
   "id": "a75d070d",
   "metadata": {},
   "source": [
    "### 2.b Concatenation and slicing"
   ]
  },
  {
   "cell_type": "code",
   "execution_count": 20,
   "id": "9227bb62",
   "metadata": {},
   "outputs": [],
   "source": [
    "fname=(\"Karuna\")\n",
    "lname=(\"Sagar\")"
   ]
  },
  {
   "cell_type": "code",
   "execution_count": 21,
   "id": "223d4016",
   "metadata": {},
   "outputs": [
    {
     "name": "stdout",
     "output_type": "stream",
     "text": [
      "Karuna Sagar\n"
     ]
    }
   ],
   "source": [
    "print(fname,lname)"
   ]
  },
  {
   "cell_type": "code",
   "execution_count": 22,
   "id": "d2e1138b",
   "metadata": {},
   "outputs": [
    {
     "name": "stdout",
     "output_type": "stream",
     "text": [
      "First name:  Karuna \n",
      "Last name:  Sagar\n"
     ]
    }
   ],
   "source": [
    "print(\"First name: \",fname,\"\\nLast name: \",lname)"
   ]
  },
  {
   "cell_type": "code",
   "execution_count": 23,
   "id": "0d021202",
   "metadata": {},
   "outputs": [],
   "source": [
    "Quote=\"Carry on but remember\""
   ]
  },
  {
   "cell_type": "code",
   "execution_count": 24,
   "id": "f5e479e0",
   "metadata": {},
   "outputs": [
    {
     "data": {
      "text/plain": [
       "'C'"
      ]
     },
     "execution_count": 24,
     "metadata": {},
     "output_type": "execute_result"
    }
   ],
   "source": [
    "Quote[0]"
   ]
  },
  {
   "cell_type": "code",
   "execution_count": 25,
   "id": "354ff6bd",
   "metadata": {},
   "outputs": [
    {
     "data": {
      "text/plain": [
       "' on but remember'"
      ]
     },
     "execution_count": 25,
     "metadata": {},
     "output_type": "execute_result"
    }
   ],
   "source": [
    "Quote[5:]"
   ]
  },
  {
   "cell_type": "code",
   "execution_count": 26,
   "id": "7f39f50e",
   "metadata": {},
   "outputs": [
    {
     "data": {
      "text/plain": [
       "9"
      ]
     },
     "execution_count": 26,
     "metadata": {},
     "output_type": "execute_result"
    }
   ],
   "source": [
    "Quote.find(\"but\")"
   ]
  },
  {
   "cell_type": "code",
   "execution_count": 27,
   "id": "6df4ef6f",
   "metadata": {},
   "outputs": [
    {
     "name": "stdout",
     "output_type": "stream",
     "text": [
      "Kalaingar who is the Tallest leader of Dravidian moment stopped his writing in 2018\n"
     ]
    }
   ],
   "source": [
    "year=2018\n",
    "name=\"Kalaingar\"\n",
    "print(name,\"who is the Tallest leader of Dravidian moment stopped his writing in\",year)"
   ]
  },
  {
   "cell_type": "code",
   "execution_count": 28,
   "id": "4678764d",
   "metadata": {},
   "outputs": [
    {
     "name": "stdout",
     "output_type": "stream",
     "text": [
      "Kalaingar who is the Tallest leader of Dravidian moment stopped his writing in 2018\n"
     ]
    }
   ],
   "source": [
    "print(name+\" who is the Tallest leader of Dravidian moment stopped his writing in \"+str(year))"
   ]
  },
  {
   "cell_type": "markdown",
   "id": "098709be",
   "metadata": {},
   "source": [
    "### 2.C.Interact with the user input"
   ]
  },
  {
   "cell_type": "code",
   "execution_count": 29,
   "id": "cbb15e62",
   "metadata": {},
   "outputs": [
    {
     "name": "stdout",
     "output_type": "stream",
     "text": [
      "Username : \n"
     ]
    },
    {
     "ename": "IndexError",
     "evalue": "string index out of range",
     "output_type": "error",
     "traceback": [
      "\u001b[1;31m---------------------------------------------------------------------------\u001b[0m",
      "\u001b[1;31mIndexError\u001b[0m                                Traceback (most recent call last)",
      "\u001b[1;32m~\\AppData\\Local\\Temp/ipykernel_7428/2190481608.py\u001b[0m in \u001b[0;36m<module>\u001b[1;34m\u001b[0m\n\u001b[0;32m      1\u001b[0m \u001b[0musername\u001b[0m\u001b[1;33m=\u001b[0m\u001b[0minput\u001b[0m\u001b[1;33m(\u001b[0m\u001b[1;34m\"Username : \"\u001b[0m\u001b[1;33m)\u001b[0m\u001b[1;33m\u001b[0m\u001b[1;33m\u001b[0m\u001b[0m\n\u001b[1;32m----> 2\u001b[1;33m \u001b[0mprint\u001b[0m\u001b[1;33m(\u001b[0m\u001b[1;34m\"Username starts with \"\u001b[0m\u001b[1;33m,\u001b[0m\u001b[0musername\u001b[0m\u001b[1;33m[\u001b[0m\u001b[1;36m0\u001b[0m\u001b[1;33m]\u001b[0m\u001b[1;33m)\u001b[0m\u001b[1;33m\u001b[0m\u001b[1;33m\u001b[0m\u001b[0m\n\u001b[0m",
      "\u001b[1;31mIndexError\u001b[0m: string index out of range"
     ]
    }
   ],
   "source": [
    "username=input(\"Username : \")\n",
    "print(\"Username starts with \",username[0])"
   ]
  },
  {
   "cell_type": "code",
   "execution_count": null,
   "id": "e9057d75",
   "metadata": {},
   "outputs": [],
   "source": [
    "name_1=input(\"Enter the name: \")\n",
    "name_2=input(\"Enter the name: \")\n",
    "name_3=input(\"Enter the name: \")"
   ]
  },
  {
   "cell_type": "code",
   "execution_count": null,
   "id": "609dfab5",
   "metadata": {},
   "outputs": [],
   "source": [
    "print(\"{} is Handball player.\\n{} is a Throw ball player.\\n{} is a cricket player.\".format(name_1,name_2,name_3))"
   ]
  },
  {
   "cell_type": "markdown",
   "id": "a3e52206",
   "metadata": {},
   "source": [
    "### 3.Numbers in Python"
   ]
  },
  {
   "cell_type": "code",
   "execution_count": null,
   "id": "895117c3",
   "metadata": {},
   "outputs": [],
   "source": [
    "marks=int(input(\"Enter the marks:\"))\n",
    "print(marks)"
   ]
  },
  {
   "cell_type": "code",
   "execution_count": 30,
   "id": "740baa30",
   "metadata": {},
   "outputs": [
    {
     "ename": "NameError",
     "evalue": "name 'marks' is not defined",
     "output_type": "error",
     "traceback": [
      "\u001b[1;31m---------------------------------------------------------------------------\u001b[0m",
      "\u001b[1;31mNameError\u001b[0m                                 Traceback (most recent call last)",
      "\u001b[1;32m~\\AppData\\Local\\Temp/ipykernel_7428/361016944.py\u001b[0m in \u001b[0;36m<module>\u001b[1;34m\u001b[0m\n\u001b[1;32m----> 1\u001b[1;33m \u001b[0mtype\u001b[0m\u001b[1;33m(\u001b[0m\u001b[0mmarks\u001b[0m\u001b[1;33m)\u001b[0m\u001b[1;33m\u001b[0m\u001b[1;33m\u001b[0m\u001b[0m\n\u001b[0m",
      "\u001b[1;31mNameError\u001b[0m: name 'marks' is not defined"
     ]
    }
   ],
   "source": [
    "type(marks)"
   ]
  },
  {
   "cell_type": "code",
   "execution_count": 31,
   "id": "4ef99c00",
   "metadata": {},
   "outputs": [
    {
     "name": "stdout",
     "output_type": "stream",
     "text": [
      "Enter the marks:\n"
     ]
    },
    {
     "ename": "ValueError",
     "evalue": "invalid literal for int() with base 10: ''",
     "output_type": "error",
     "traceback": [
      "\u001b[1;31m---------------------------------------------------------------------------\u001b[0m",
      "\u001b[1;31mValueError\u001b[0m                                Traceback (most recent call last)",
      "\u001b[1;32m~\\AppData\\Local\\Temp/ipykernel_7428/3594716401.py\u001b[0m in \u001b[0;36m<module>\u001b[1;34m\u001b[0m\n\u001b[1;32m----> 1\u001b[1;33m \u001b[0mmarks\u001b[0m\u001b[1;33m=\u001b[0m\u001b[0mabs\u001b[0m\u001b[1;33m(\u001b[0m\u001b[0mint\u001b[0m\u001b[1;33m(\u001b[0m\u001b[0minput\u001b[0m\u001b[1;33m(\u001b[0m\u001b[1;34m\"Enter the marks:\"\u001b[0m\u001b[1;33m)\u001b[0m\u001b[1;33m)\u001b[0m\u001b[1;33m)\u001b[0m\u001b[1;33m\u001b[0m\u001b[1;33m\u001b[0m\u001b[0m\n\u001b[0m\u001b[0;32m      2\u001b[0m \u001b[0mprint\u001b[0m\u001b[1;33m(\u001b[0m\u001b[0mmarks\u001b[0m\u001b[1;33m)\u001b[0m\u001b[1;33m\u001b[0m\u001b[1;33m\u001b[0m\u001b[0m\n",
      "\u001b[1;31mValueError\u001b[0m: invalid literal for int() with base 10: ''"
     ]
    }
   ],
   "source": [
    "marks=abs(int(input(\"Enter the marks:\")))\n",
    "print(marks)"
   ]
  },
  {
   "cell_type": "markdown",
   "id": "8c261003",
   "metadata": {},
   "source": [
    "### Chapter-4 Functions and Loops"
   ]
  },
  {
   "cell_type": "markdown",
   "id": "4a1cda46",
   "metadata": {},
   "source": [
    "### 3 types of Functions\n",
    "### 1.Predefined Functions- Functions are already defined\n",
    "### 2.User defined functions-Customized Functions that user can define\n",
    "### 3.Anonymous functions-nameless functions that is used to accomplish operation at once"
   ]
  },
  {
   "cell_type": "markdown",
   "id": "2c517832",
   "metadata": {},
   "source": [
    "## User defined Functions"
   ]
  },
  {
   "cell_type": "code",
   "execution_count": 32,
   "id": "6181ed71",
   "metadata": {},
   "outputs": [],
   "source": [
    "#user defined function\n",
    "def team():\n",
    "    print(\"Karuna\")\n",
    "    print(\"Senthil\")"
   ]
  },
  {
   "cell_type": "code",
   "execution_count": 33,
   "id": "1e874654",
   "metadata": {},
   "outputs": [
    {
     "name": "stdout",
     "output_type": "stream",
     "text": [
      "Karuna\n",
      "Senthil\n"
     ]
    }
   ],
   "source": [
    "team()"
   ]
  },
  {
   "cell_type": "markdown",
   "id": "195aa301",
   "metadata": {},
   "source": [
    "### Positional arguments"
   ]
  },
  {
   "cell_type": "code",
   "execution_count": 34,
   "id": "4cc2caa9",
   "metadata": {},
   "outputs": [],
   "source": [
    "def Limitless(Name,Designation,Experience):\n",
    "    print(\"Name:\",Name)\n",
    "    print(\"Designation:\",Designation)\n",
    "    print(\"Experience:\",Experience)"
   ]
  },
  {
   "cell_type": "code",
   "execution_count": 35,
   "id": "c78c30c6",
   "metadata": {},
   "outputs": [
    {
     "name": "stdout",
     "output_type": "stream",
     "text": [
      "Name: Karunasagar\n",
      "Designation: BMS\n",
      "Experience: 3.5\n"
     ]
    }
   ],
   "source": [
    "Limitless(\"Karunasagar\",\"BMS\",3.5)"
   ]
  },
  {
   "cell_type": "code",
   "execution_count": 36,
   "id": "f480b25a",
   "metadata": {},
   "outputs": [
    {
     "name": "stdout",
     "output_type": "stream",
     "text": [
      "Name: Sarath\n",
      "Designation: BMS\n",
      "Experience: 5\n"
     ]
    }
   ],
   "source": [
    "Limitless(\"Sarath\",\"BMS\",5)"
   ]
  },
  {
   "cell_type": "markdown",
   "id": "f890963f",
   "metadata": {},
   "source": [
    "### Default Arguments"
   ]
  },
  {
   "cell_type": "code",
   "execution_count": 37,
   "id": "21d51f38",
   "metadata": {},
   "outputs": [],
   "source": [
    "def Nvidia(Name,Designation,Experience,Company=\"Nvidia\"):\n",
    "    print(\"Name:\",Name)\n",
    "    print(\"Designation:\",Designation)\n",
    "    print(\"Experience:\",Experience)\n",
    "    print(\"Company:\",Company)"
   ]
  },
  {
   "cell_type": "code",
   "execution_count": 38,
   "id": "249703b5",
   "metadata": {},
   "outputs": [
    {
     "name": "stdout",
     "output_type": "stream",
     "text": [
      "Name: Karunas\n",
      "Designation: BMS\n",
      "Experience: 5\n",
      "Company: Nvidia\n"
     ]
    }
   ],
   "source": [
    "Nvidia(\"Karunas\",\"BMS\",5)"
   ]
  },
  {
   "cell_type": "code",
   "execution_count": 39,
   "id": "e47d8885",
   "metadata": {},
   "outputs": [
    {
     "name": "stdout",
     "output_type": "stream",
     "text": [
      "Name: Mani\n",
      "Designation: BMS\n",
      "Experience: 4\n",
      "Company: Nvidia\n"
     ]
    }
   ],
   "source": [
    "Nvidia(\"Mani\",\"BMS\",4)"
   ]
  },
  {
   "cell_type": "markdown",
   "id": "e986a8fa",
   "metadata": {},
   "source": [
    "### Variable Length Arguments"
   ]
  },
  {
   "cell_type": "code",
   "execution_count": 40,
   "id": "383ef33d",
   "metadata": {},
   "outputs": [],
   "source": [
    "def Work(Name,Designation,*Company):\n",
    "    print(\"Name:\",Name)\n",
    "    print(\"Designation:\",Designation)\n",
    "    print(\"Company:\",Company)"
   ]
  },
  {
   "cell_type": "code",
   "execution_count": 41,
   "id": "b3f21d21",
   "metadata": {},
   "outputs": [
    {
     "name": "stdout",
     "output_type": "stream",
     "text": [
      "Name: Karunasagar\n",
      "Designation: BMS\n",
      "Company: ('Indus', 'VInspirer', 'Limitless', 'Nvidia')\n"
     ]
    }
   ],
   "source": [
    "Work(\"Karunasagar\",\"BMS\",\"Indus\",\"VInspirer\",\"Limitless\",\"Nvidia\")"
   ]
  },
  {
   "cell_type": "markdown",
   "id": "429b39fc",
   "metadata": {},
   "source": [
    "### Keyword Arguments"
   ]
  },
  {
   "cell_type": "code",
   "execution_count": 42,
   "id": "16266b5f",
   "metadata": {},
   "outputs": [],
   "source": [
    "def Work(Name,Designation,**Company):\n",
    "    print(\"Name:\",Name)\n",
    "    print(\"Designation:\",Designation)\n",
    "    print(\"Company:\",Company)"
   ]
  },
  {
   "cell_type": "code",
   "execution_count": 43,
   "id": "dad3ec80",
   "metadata": {},
   "outputs": [
    {
     "name": "stdout",
     "output_type": "stream",
     "text": [
      "Name: Karunasagar\n",
      "Designation: BMS\n",
      "Company: {'Company1': 'Indus', 'Company2': 'VInspirer', 'Company3': 'Limitless'}\n"
     ]
    }
   ],
   "source": [
    "Work(\"Karunasagar\",\"BMS\",Company1=\"Indus\",Company2=\"VInspirer\",Company3=\"Limitless\")"
   ]
  },
  {
   "cell_type": "code",
   "execution_count": 44,
   "id": "bfcfc991",
   "metadata": {},
   "outputs": [],
   "source": [
    "def Work(Name,*Designation,**Company):\n",
    "    print(\"Name:\",Name)\n",
    "    print(\"Designation:\",Designation)\n",
    "    print(\"Company:\",Company)"
   ]
  },
  {
   "cell_type": "code",
   "execution_count": 45,
   "id": "66848d70",
   "metadata": {},
   "outputs": [
    {
     "name": "stdout",
     "output_type": "stream",
     "text": [
      "Name: Karunasagar\n",
      "Designation: ('Service', 'BMS')\n",
      "Company: {'Company1': 'Indus', 'Company2': 'VInspirer', 'Company3': 'Limitless'}\n"
     ]
    }
   ],
   "source": [
    "Work(\"Karunasagar\",\"Service\",\"BMS\",Company1=\"Indus\",Company2=\"VInspirer\",Company3=\"Limitless\")"
   ]
  },
  {
   "cell_type": "code",
   "execution_count": 46,
   "id": "41deccb0",
   "metadata": {},
   "outputs": [],
   "source": [
    "def Multiply(a,b):\n",
    "    print(\"Number:\",a)\n",
    "    print(\"Number:\",b)\n",
    "    print(\"Answer:\",a*b)"
   ]
  },
  {
   "cell_type": "code",
   "execution_count": 47,
   "id": "e29f9239",
   "metadata": {},
   "outputs": [
    {
     "name": "stdout",
     "output_type": "stream",
     "text": [
      "Number: 5\n",
      "Number: 6\n",
      "Answer: 30\n"
     ]
    }
   ],
   "source": [
    "Multiply(5,6)"
   ]
  },
  {
   "cell_type": "markdown",
   "id": "14b47c40",
   "metadata": {},
   "source": [
    "### 4.B Run in circles"
   ]
  },
  {
   "cell_type": "code",
   "execution_count": 48,
   "id": "3ca7fe13",
   "metadata": {},
   "outputs": [
    {
     "name": "stdout",
     "output_type": "stream",
     "text": [
      "(1, 2, 3, 4, 5, 6, 7, 8, 9, 10, 11, 12, 13, 14, 15, 16, 17, 18, 19)\n"
     ]
    }
   ],
   "source": [
    "a=1,2,3,4,5,6,7,8,9,10,11,12,13,14,15,16,17,18,19\n",
    "print(a)"
   ]
  },
  {
   "cell_type": "code",
   "execution_count": 49,
   "id": "e015564f",
   "metadata": {},
   "outputs": [
    {
     "data": {
      "text/plain": [
       "range(1, 101)"
      ]
     },
     "execution_count": 49,
     "metadata": {},
     "output_type": "execute_result"
    }
   ],
   "source": [
    "range(1,101)"
   ]
  },
  {
   "cell_type": "code",
   "execution_count": 50,
   "id": "6013e4ed",
   "metadata": {},
   "outputs": [
    {
     "name": "stdout",
     "output_type": "stream",
     "text": [
      "1\n",
      "11\n",
      "21\n",
      "31\n",
      "41\n",
      "51\n",
      "61\n",
      "71\n",
      "81\n",
      "91\n"
     ]
    }
   ],
   "source": [
    "for a in range(1,101,10):\n",
    "    print(a)\n"
   ]
  },
  {
   "cell_type": "code",
   "execution_count": 51,
   "id": "5060f36b",
   "metadata": {},
   "outputs": [],
   "source": [
    "def pg(sai):\n",
    "    for l in sai:\n",
    "        print(l)"
   ]
  },
  {
   "cell_type": "code",
   "execution_count": 52,
   "id": "b1deec4e",
   "metadata": {},
   "outputs": [
    {
     "name": "stdout",
     "output_type": "stream",
     "text": [
      "S\n",
      "a\n",
      "i\n"
     ]
    }
   ],
   "source": [
    "pg(\"Sai\")"
   ]
  },
  {
   "cell_type": "markdown",
   "id": "1bedc249",
   "metadata": {},
   "source": [
    "### 5.Conditional Logic"
   ]
  },
  {
   "cell_type": "code",
   "execution_count": 53,
   "id": "4a11bfd4",
   "metadata": {},
   "outputs": [
    {
     "data": {
      "text/plain": [
       "True"
      ]
     },
     "execution_count": 53,
     "metadata": {},
     "output_type": "execute_result"
    }
   ],
   "source": [
    "5==5"
   ]
  },
  {
   "cell_type": "code",
   "execution_count": 54,
   "id": "ae7f1934",
   "metadata": {},
   "outputs": [
    {
     "data": {
      "text/plain": [
       "True"
      ]
     },
     "execution_count": 54,
     "metadata": {},
     "output_type": "execute_result"
    }
   ],
   "source": [
    "a==a"
   ]
  },
  {
   "cell_type": "code",
   "execution_count": 55,
   "id": "cb95ad70",
   "metadata": {},
   "outputs": [
    {
     "data": {
      "text/plain": [
       "True"
      ]
     },
     "execution_count": 55,
     "metadata": {},
     "output_type": "execute_result"
    }
   ],
   "source": [
    "5!=6"
   ]
  },
  {
   "cell_type": "code",
   "execution_count": 56,
   "id": "d85b094e",
   "metadata": {},
   "outputs": [],
   "source": [
    "K=50\n",
    "G=100\n",
    "S=75"
   ]
  },
  {
   "cell_type": "code",
   "execution_count": 57,
   "id": "2f86110f",
   "metadata": {},
   "outputs": [
    {
     "data": {
      "text/plain": [
       "False"
      ]
     },
     "execution_count": 57,
     "metadata": {},
     "output_type": "execute_result"
    }
   ],
   "source": [
    "K>G and K<G"
   ]
  },
  {
   "cell_type": "code",
   "execution_count": 58,
   "id": "f78b51fe",
   "metadata": {},
   "outputs": [
    {
     "data": {
      "text/plain": [
       "'SNSCT Handball team won the tournament'"
      ]
     },
     "execution_count": 58,
     "metadata": {},
     "output_type": "execute_result"
    }
   ],
   "source": [
    "news=\"SNSCT Handball team won the tournament\"\n",
    "news"
   ]
  },
  {
   "cell_type": "code",
   "execution_count": 59,
   "id": "f9876ec8",
   "metadata": {},
   "outputs": [
    {
     "data": {
      "text/plain": [
       "True"
      ]
     },
     "execution_count": 59,
     "metadata": {},
     "output_type": "execute_result"
    }
   ],
   "source": [
    "\"team\" in news"
   ]
  },
  {
   "cell_type": "code",
   "execution_count": 60,
   "id": "e6522aab",
   "metadata": {},
   "outputs": [
    {
     "data": {
      "text/plain": [
       "False"
      ]
     },
     "execution_count": 60,
     "metadata": {},
     "output_type": "execute_result"
    }
   ],
   "source": [
    "\"team\" not in news"
   ]
  },
  {
   "cell_type": "markdown",
   "id": "0bd2214d",
   "metadata": {},
   "source": [
    "## 5.C Control the flow of the program"
   ]
  },
  {
   "cell_type": "code",
   "execution_count": 61,
   "id": "5ed8846b",
   "metadata": {},
   "outputs": [
    {
     "name": "stdout",
     "output_type": "stream",
     "text": [
      "Password:\n",
      "Weak Password\n"
     ]
    }
   ],
   "source": [
    "Password = input(\"Password:\")\n",
    "if len(Password)>5:\n",
    "    print(\"Strong Password\")\n",
    "else:\n",
    "        print(\"Weak Password\")"
   ]
  },
  {
   "cell_type": "markdown",
   "id": "2793fa73",
   "metadata": {},
   "source": [
    "5[d] Challenge to find the factors of a number\n",
    "* Display a message to the user to enter a number\n",
    "* Use for loop\n",
    "* Use if statement\n",
    "* Use print"
   ]
  },
  {
   "cell_type": "code",
   "execution_count": 62,
   "id": "e2d11c27",
   "metadata": {},
   "outputs": [
    {
     "name": "stdout",
     "output_type": "stream",
     "text": [
      "Enter a number:\n"
     ]
    },
    {
     "ename": "ValueError",
     "evalue": "invalid literal for int() with base 10: ''",
     "output_type": "error",
     "traceback": [
      "\u001b[1;31m---------------------------------------------------------------------------\u001b[0m",
      "\u001b[1;31mValueError\u001b[0m                                Traceback (most recent call last)",
      "\u001b[1;32m~\\AppData\\Local\\Temp/ipykernel_7428/1365319610.py\u001b[0m in \u001b[0;36m<module>\u001b[1;34m\u001b[0m\n\u001b[1;32m----> 1\u001b[1;33m \u001b[0mFactors\u001b[0m \u001b[1;33m=\u001b[0m \u001b[0mint\u001b[0m\u001b[1;33m(\u001b[0m\u001b[0minput\u001b[0m\u001b[1;33m(\u001b[0m\u001b[1;34m\"Enter a number:\"\u001b[0m\u001b[1;33m)\u001b[0m\u001b[1;33m)\u001b[0m\u001b[1;33m\u001b[0m\u001b[1;33m\u001b[0m\u001b[0m\n\u001b[0m\u001b[0;32m      2\u001b[0m \u001b[1;32mfor\u001b[0m \u001b[0mi\u001b[0m \u001b[1;32min\u001b[0m \u001b[0mrange\u001b[0m\u001b[1;33m(\u001b[0m\u001b[1;36m1\u001b[0m\u001b[1;33m,\u001b[0m\u001b[0mFactors\u001b[0m\u001b[1;33m)\u001b[0m\u001b[1;33m:\u001b[0m\u001b[1;33m\u001b[0m\u001b[1;33m\u001b[0m\u001b[0m\n\u001b[0;32m      3\u001b[0m  \u001b[1;32mif\u001b[0m \u001b[0mFactors\u001b[0m\u001b[1;33m%\u001b[0m\u001b[0mi\u001b[0m \u001b[1;33m==\u001b[0m\u001b[1;36m0\u001b[0m\u001b[1;33m:\u001b[0m\u001b[1;33m\u001b[0m\u001b[1;33m\u001b[0m\u001b[0m\n\u001b[0;32m      4\u001b[0m     \u001b[1;31m#print(i)\u001b[0m\u001b[1;33m\u001b[0m\u001b[1;33m\u001b[0m\u001b[0m\n\u001b[0;32m      5\u001b[0m     \u001b[0mprint\u001b[0m\u001b[1;33m(\u001b[0m\u001b[1;34m\"Factorial of {} is {}\"\u001b[0m\u001b[1;33m.\u001b[0m\u001b[0mformat\u001b[0m\u001b[1;33m(\u001b[0m\u001b[0mFactors\u001b[0m\u001b[1;33m,\u001b[0m\u001b[0mi\u001b[0m\u001b[1;33m)\u001b[0m \u001b[1;33m)\u001b[0m\u001b[1;33m\u001b[0m\u001b[1;33m\u001b[0m\u001b[0m\n",
      "\u001b[1;31mValueError\u001b[0m: invalid literal for int() with base 10: ''"
     ]
    }
   ],
   "source": [
    "Factors = int(input(\"Enter a number:\"))\n",
    "for i in range(1,Factors):\n",
    " if Factors%i ==0:\n",
    "    #print(i)\n",
    "    print(\"Factorial of {} is {}\".format(Factors,i) )"
   ]
  },
  {
   "cell_type": "markdown",
   "id": "5e185b79",
   "metadata": {},
   "source": [
    "### 4.Data Structures\n",
    "*List-[]\n",
    "*Sets-{}\n",
    "*Tuples-[]\n",
    "*Dict-{}"
   ]
  },
  {
   "cell_type": "markdown",
   "id": "ecbdee74",
   "metadata": {},
   "source": [
    "### 1.List"
   ]
  },
  {
   "cell_type": "code",
   "execution_count": 63,
   "id": "e41a1d5c",
   "metadata": {},
   "outputs": [
    {
     "data": {
      "text/plain": [
       "list"
      ]
     },
     "execution_count": 63,
     "metadata": {},
     "output_type": "execute_result"
    }
   ],
   "source": [
    "List=[]\n",
    "type(List)"
   ]
  },
  {
   "cell_type": "code",
   "execution_count": 64,
   "id": "b5924b6f",
   "metadata": {},
   "outputs": [
    {
     "name": "stdout",
     "output_type": "stream",
     "text": [
      "[95, 58, 74, 'Mani', 85.0]\n"
     ]
    }
   ],
   "source": [
    "Karuna=[95,58,74,\"Mani\",85.0]#Hetero genous\n",
    "print(Karuna)"
   ]
  },
  {
   "cell_type": "code",
   "execution_count": 65,
   "id": "725db9e8",
   "metadata": {},
   "outputs": [
    {
     "data": {
      "text/plain": [
       "list"
      ]
     },
     "execution_count": 65,
     "metadata": {},
     "output_type": "execute_result"
    }
   ],
   "source": [
    "type(Karuna)"
   ]
  },
  {
   "cell_type": "code",
   "execution_count": 66,
   "id": "3e3aeeae",
   "metadata": {},
   "outputs": [
    {
     "name": "stdout",
     "output_type": "stream",
     "text": [
      "[85, 58, 74, 'Mani', 85.0]\n"
     ]
    }
   ],
   "source": [
    "Karuna[0]=85 #Indexable\n",
    "print(Karuna)"
   ]
  },
  {
   "cell_type": "code",
   "execution_count": 67,
   "id": "237b7752",
   "metadata": {},
   "outputs": [
    {
     "data": {
      "text/plain": [
       "[74, 'Mani', 85.0]"
      ]
     },
     "execution_count": 67,
     "metadata": {},
     "output_type": "execute_result"
    }
   ],
   "source": [
    "Karuna[2:] #Slicable"
   ]
  },
  {
   "cell_type": "code",
   "execution_count": 68,
   "id": "51d6e4cc",
   "metadata": {},
   "outputs": [
    {
     "name": "stdout",
     "output_type": "stream",
     "text": [
      "[85.0, 'Mani', 74, 58, 85]\n"
     ]
    }
   ],
   "source": [
    "Karuna.reverse()\n",
    "print(Karuna)"
   ]
  },
  {
   "cell_type": "markdown",
   "id": "38d10c91",
   "metadata": {},
   "source": [
    "### 2.Sets"
   ]
  },
  {
   "cell_type": "code",
   "execution_count": 69,
   "id": "7bc1f8fc",
   "metadata": {},
   "outputs": [
    {
     "data": {
      "text/plain": [
       "set"
      ]
     },
     "execution_count": 69,
     "metadata": {},
     "output_type": "execute_result"
    }
   ],
   "source": [
    "Set=set()\n",
    "type(Set)"
   ]
  },
  {
   "cell_type": "code",
   "execution_count": 70,
   "id": "4409c261",
   "metadata": {},
   "outputs": [
    {
     "name": "stdout",
     "output_type": "stream",
     "text": [
      "{'Mani', 58, 85.0, 74, 95}\n"
     ]
    }
   ],
   "source": [
    "Karuna={95,58,74,\"Mani\",85.0}#Hetero genous\n",
    "print(Karuna)"
   ]
  },
  {
   "cell_type": "code",
   "execution_count": 71,
   "id": "530ac033",
   "metadata": {},
   "outputs": [
    {
     "data": {
      "text/plain": [
       "set"
      ]
     },
     "execution_count": 71,
     "metadata": {},
     "output_type": "execute_result"
    }
   ],
   "source": [
    "type(Karuna)"
   ]
  },
  {
   "cell_type": "code",
   "execution_count": 72,
   "id": "7509ffee",
   "metadata": {},
   "outputs": [
    {
     "ename": "SyntaxError",
     "evalue": "invalid syntax (Temp/ipykernel_7428/4250162738.py, line 1)",
     "output_type": "error",
     "traceback": [
      "\u001b[1;36m  File \u001b[1;32m\"C:\\Users\\User\\AppData\\Local\\Temp/ipykernel_7428/4250162738.py\"\u001b[1;36m, line \u001b[1;32m1\u001b[0m\n\u001b[1;33m    Karuna{0:} #not indexable\u001b[0m\n\u001b[1;37m          ^\u001b[0m\n\u001b[1;31mSyntaxError\u001b[0m\u001b[1;31m:\u001b[0m invalid syntax\n"
     ]
    }
   ],
   "source": [
    "Karuna{0:} #not indexable"
   ]
  },
  {
   "cell_type": "code",
   "execution_count": 73,
   "id": "3ed5fe62",
   "metadata": {},
   "outputs": [
    {
     "ename": "SyntaxError",
     "evalue": "invalid syntax (Temp/ipykernel_7428/3651644676.py, line 1)",
     "output_type": "error",
     "traceback": [
      "\u001b[1;36m  File \u001b[1;32m\"C:\\Users\\User\\AppData\\Local\\Temp/ipykernel_7428/3651644676.py\"\u001b[1;36m, line \u001b[1;32m1\u001b[0m\n\u001b[1;33m    Karuna{0:}# Not Slicable\u001b[0m\n\u001b[1;37m          ^\u001b[0m\n\u001b[1;31mSyntaxError\u001b[0m\u001b[1;31m:\u001b[0m invalid syntax\n"
     ]
    }
   ],
   "source": [
    "Karuna{0:}# Not Slicable\n",
    "print(Karuna)"
   ]
  },
  {
   "cell_type": "code",
   "execution_count": 74,
   "id": "3dce5711",
   "metadata": {},
   "outputs": [],
   "source": [
    "Karuna.add(1000)"
   ]
  },
  {
   "cell_type": "code",
   "execution_count": 75,
   "id": "599c21bf",
   "metadata": {},
   "outputs": [],
   "source": [
    "Karuna.add(\"Raj\")"
   ]
  },
  {
   "cell_type": "code",
   "execution_count": 76,
   "id": "2d3a14be",
   "metadata": {},
   "outputs": [
    {
     "data": {
      "text/plain": [
       "{1000, 58, 74, 85.0, 95, 'Mani', 'Raj'}"
      ]
     },
     "execution_count": 76,
     "metadata": {},
     "output_type": "execute_result"
    }
   ],
   "source": [
    "Karuna"
   ]
  },
  {
   "cell_type": "markdown",
   "id": "1d53ac0b",
   "metadata": {},
   "source": [
    "### 3.Tuples"
   ]
  },
  {
   "cell_type": "code",
   "execution_count": 77,
   "id": "39fcae0d",
   "metadata": {},
   "outputs": [
    {
     "data": {
      "text/plain": [
       "tuple"
      ]
     },
     "execution_count": 77,
     "metadata": {},
     "output_type": "execute_result"
    }
   ],
   "source": [
    "Tuple=()\n",
    "type(Tuple)"
   ]
  },
  {
   "cell_type": "code",
   "execution_count": 78,
   "id": "3f86e2b1",
   "metadata": {},
   "outputs": [
    {
     "data": {
      "text/plain": [
       "('Redmi', 'Apple', 'Samsung', 15, 51)"
      ]
     },
     "execution_count": 78,
     "metadata": {},
     "output_type": "execute_result"
    }
   ],
   "source": [
    "mobile=(\"Redmi\",\"Apple\",\"Samsung\",15,51)\n",
    "mobile"
   ]
  },
  {
   "cell_type": "code",
   "execution_count": 79,
   "id": "ab93ea11",
   "metadata": {},
   "outputs": [
    {
     "data": {
      "text/plain": [
       "tuple"
      ]
     },
     "execution_count": 79,
     "metadata": {},
     "output_type": "execute_result"
    }
   ],
   "source": [
    "type(mobile)"
   ]
  },
  {
   "cell_type": "code",
   "execution_count": 80,
   "id": "67e71487",
   "metadata": {},
   "outputs": [
    {
     "data": {
      "text/plain": [
       "('Samsung', 15, 51)"
      ]
     },
     "execution_count": 80,
     "metadata": {},
     "output_type": "execute_result"
    }
   ],
   "source": [
    "mobile[2:] #Indexable and Slicable"
   ]
  },
  {
   "cell_type": "code",
   "execution_count": 81,
   "id": "05da5197",
   "metadata": {},
   "outputs": [
    {
     "ename": "TypeError",
     "evalue": "'tuple' object does not support item assignment",
     "output_type": "error",
     "traceback": [
      "\u001b[1;31m---------------------------------------------------------------------------\u001b[0m",
      "\u001b[1;31mTypeError\u001b[0m                                 Traceback (most recent call last)",
      "\u001b[1;32m~\\AppData\\Local\\Temp/ipykernel_7428/7910040.py\u001b[0m in \u001b[0;36m<module>\u001b[1;34m\u001b[0m\n\u001b[1;32m----> 1\u001b[1;33m \u001b[0mmobile\u001b[0m\u001b[1;33m[\u001b[0m\u001b[1;36m2\u001b[0m\u001b[1;33m]\u001b[0m\u001b[1;33m=\u001b[0m\u001b[1;34m\"Karbonn\"\u001b[0m \u001b[1;31m# Immutable\u001b[0m\u001b[1;33m\u001b[0m\u001b[1;33m\u001b[0m\u001b[0m\n\u001b[0m\u001b[0;32m      2\u001b[0m \u001b[0mmobile\u001b[0m\u001b[1;33m\u001b[0m\u001b[1;33m\u001b[0m\u001b[0m\n",
      "\u001b[1;31mTypeError\u001b[0m: 'tuple' object does not support item assignment"
     ]
    }
   ],
   "source": [
    "mobile[2]=\"Karbonn\" # Immutable\n",
    "mobile"
   ]
  },
  {
   "cell_type": "markdown",
   "id": "de2581e1",
   "metadata": {},
   "source": [
    "### 4.Dictionary-Key Value Pair"
   ]
  },
  {
   "cell_type": "code",
   "execution_count": 82,
   "id": "082f46de",
   "metadata": {},
   "outputs": [
    {
     "data": {
      "text/plain": [
       "dict"
      ]
     },
     "execution_count": 82,
     "metadata": {},
     "output_type": "execute_result"
    }
   ],
   "source": [
    "empty_dict={}\n",
    "type(empty_dict)"
   ]
  },
  {
   "cell_type": "code",
   "execution_count": 83,
   "id": "689ed082",
   "metadata": {},
   "outputs": [
    {
     "data": {
      "text/plain": [
       "{'Karuna': 10, 'Senthi': 11, 'Kamesh': 12}"
      ]
     },
     "execution_count": 83,
     "metadata": {},
     "output_type": "execute_result"
    }
   ],
   "source": [
    "Players={\"Karuna\":10,\"Senthi\":11,\"Kamesh\":12}\n",
    "Players"
   ]
  },
  {
   "cell_type": "code",
   "execution_count": 84,
   "id": "72b7a81c",
   "metadata": {},
   "outputs": [
    {
     "data": {
      "text/plain": [
       "dict_keys(['Karuna', 'Senthi', 'Kamesh'])"
      ]
     },
     "execution_count": 84,
     "metadata": {},
     "output_type": "execute_result"
    }
   ],
   "source": [
    "Players.keys()"
   ]
  },
  {
   "cell_type": "code",
   "execution_count": 85,
   "id": "367e04e9",
   "metadata": {},
   "outputs": [
    {
     "data": {
      "text/plain": [
       "dict_values([10, 11, 12])"
      ]
     },
     "execution_count": 85,
     "metadata": {},
     "output_type": "execute_result"
    }
   ],
   "source": [
    "Players.values()"
   ]
  },
  {
   "cell_type": "code",
   "execution_count": 86,
   "id": "65312abf",
   "metadata": {},
   "outputs": [
    {
     "data": {
      "text/plain": [
       "{'Players': ['Karuna', 'Senthi', 'Kamesh'],\n",
       " 'Goals': [8, 9, 10],\n",
       " 'Penalty': [0, 1, 2]}"
      ]
     },
     "execution_count": 86,
     "metadata": {},
     "output_type": "execute_result"
    }
   ],
   "source": [
    "Handball={\"Players\":[\"Karuna\",\"Senthi\",\"Kamesh\"],\n",
    "          \"Goals\":[8,9,10],\n",
    "          \"Penalty\":[0,1,2]}\n",
    "Handball\n",
    "          "
   ]
  },
  {
   "cell_type": "code",
   "execution_count": 87,
   "id": "74cd361d",
   "metadata": {},
   "outputs": [],
   "source": [
    "import pandas"
   ]
  },
  {
   "cell_type": "code",
   "execution_count": 88,
   "id": "6aea7edd",
   "metadata": {},
   "outputs": [
    {
     "data": {
      "text/html": [
       "<div>\n",
       "<style scoped>\n",
       "    .dataframe tbody tr th:only-of-type {\n",
       "        vertical-align: middle;\n",
       "    }\n",
       "\n",
       "    .dataframe tbody tr th {\n",
       "        vertical-align: top;\n",
       "    }\n",
       "\n",
       "    .dataframe thead th {\n",
       "        text-align: right;\n",
       "    }\n",
       "</style>\n",
       "<table border=\"1\" class=\"dataframe\">\n",
       "  <thead>\n",
       "    <tr style=\"text-align: right;\">\n",
       "      <th></th>\n",
       "      <th>Players</th>\n",
       "      <th>Goals</th>\n",
       "      <th>Penalty</th>\n",
       "    </tr>\n",
       "  </thead>\n",
       "  <tbody>\n",
       "    <tr>\n",
       "      <th>0</th>\n",
       "      <td>Karuna</td>\n",
       "      <td>8</td>\n",
       "      <td>0</td>\n",
       "    </tr>\n",
       "    <tr>\n",
       "      <th>1</th>\n",
       "      <td>Senthi</td>\n",
       "      <td>9</td>\n",
       "      <td>1</td>\n",
       "    </tr>\n",
       "    <tr>\n",
       "      <th>2</th>\n",
       "      <td>Kamesh</td>\n",
       "      <td>10</td>\n",
       "      <td>2</td>\n",
       "    </tr>\n",
       "  </tbody>\n",
       "</table>\n",
       "</div>"
      ],
      "text/plain": [
       "  Players  Goals  Penalty\n",
       "0  Karuna      8        0\n",
       "1  Senthi      9        1\n",
       "2  Kamesh     10        2"
      ]
     },
     "execution_count": 88,
     "metadata": {},
     "output_type": "execute_result"
    }
   ],
   "source": [
    "pandas.DataFrame(Handball)"
   ]
  },
  {
   "cell_type": "markdown",
   "id": "0fa8bd8f",
   "metadata": {},
   "source": [
    "### Pandas Deep Drive -Data Analysis"
   ]
  },
  {
   "cell_type": "code",
   "execution_count": 89,
   "id": "8cb36cf2",
   "metadata": {},
   "outputs": [
    {
     "name": "stdout",
     "output_type": "stream",
     "text": [
      "Requirement already satisfied: pandas in d:\\anaconda\\lib\\site-packages (1.3.4)\n",
      "Requirement already satisfied: pytz>=2017.3 in d:\\anaconda\\lib\\site-packages (from pandas) (2021.3)\n",
      "Requirement already satisfied: numpy>=1.17.3 in d:\\anaconda\\lib\\site-packages (from pandas) (1.20.3)\n",
      "Requirement already satisfied: python-dateutil>=2.7.3 in d:\\anaconda\\lib\\site-packages (from pandas) (2.8.2)\n",
      "Requirement already satisfied: six>=1.5 in d:\\anaconda\\lib\\site-packages (from python-dateutil>=2.7.3->pandas) (1.16.0)\n"
     ]
    }
   ],
   "source": [
    "!pip install pandas"
   ]
  },
  {
   "cell_type": "code",
   "execution_count": 99,
   "id": "5fa0993a",
   "metadata": {},
   "outputs": [],
   "source": [
    "import pandas as pd #Alias is nothing bt a nick name\n",
    "import numpy as np"
   ]
  },
  {
   "cell_type": "code",
   "execution_count": 97,
   "id": "f8dbae30",
   "metadata": {},
   "outputs": [
    {
     "data": {
      "text/html": [
       "<div>\n",
       "<style scoped>\n",
       "    .dataframe tbody tr th:only-of-type {\n",
       "        vertical-align: middle;\n",
       "    }\n",
       "\n",
       "    .dataframe tbody tr th {\n",
       "        vertical-align: top;\n",
       "    }\n",
       "\n",
       "    .dataframe thead th {\n",
       "        text-align: right;\n",
       "    }\n",
       "</style>\n",
       "<table border=\"1\" class=\"dataframe\">\n",
       "  <thead>\n",
       "    <tr style=\"text-align: right;\">\n",
       "      <th></th>\n",
       "      <th>country</th>\n",
       "      <th>beer_servings</th>\n",
       "      <th>spirit_servings</th>\n",
       "      <th>wine_servings</th>\n",
       "      <th>total_litres_of_pure_alcohol</th>\n",
       "      <th>continent</th>\n",
       "    </tr>\n",
       "  </thead>\n",
       "  <tbody>\n",
       "    <tr>\n",
       "      <th>0</th>\n",
       "      <td>Afghanistan</td>\n",
       "      <td>0</td>\n",
       "      <td>0</td>\n",
       "      <td>0</td>\n",
       "      <td>0.0</td>\n",
       "      <td>AS</td>\n",
       "    </tr>\n",
       "    <tr>\n",
       "      <th>1</th>\n",
       "      <td>Albania</td>\n",
       "      <td>89</td>\n",
       "      <td>132</td>\n",
       "      <td>54</td>\n",
       "      <td>4.9</td>\n",
       "      <td>EU</td>\n",
       "    </tr>\n",
       "    <tr>\n",
       "      <th>2</th>\n",
       "      <td>Algeria</td>\n",
       "      <td>25</td>\n",
       "      <td>0</td>\n",
       "      <td>14</td>\n",
       "      <td>0.7</td>\n",
       "      <td>AF</td>\n",
       "    </tr>\n",
       "    <tr>\n",
       "      <th>3</th>\n",
       "      <td>Andorra</td>\n",
       "      <td>245</td>\n",
       "      <td>138</td>\n",
       "      <td>312</td>\n",
       "      <td>12.4</td>\n",
       "      <td>EU</td>\n",
       "    </tr>\n",
       "    <tr>\n",
       "      <th>4</th>\n",
       "      <td>Angola</td>\n",
       "      <td>217</td>\n",
       "      <td>57</td>\n",
       "      <td>45</td>\n",
       "      <td>5.9</td>\n",
       "      <td>AF</td>\n",
       "    </tr>\n",
       "    <tr>\n",
       "      <th>...</th>\n",
       "      <td>...</td>\n",
       "      <td>...</td>\n",
       "      <td>...</td>\n",
       "      <td>...</td>\n",
       "      <td>...</td>\n",
       "      <td>...</td>\n",
       "    </tr>\n",
       "    <tr>\n",
       "      <th>188</th>\n",
       "      <td>Venezuela</td>\n",
       "      <td>333</td>\n",
       "      <td>100</td>\n",
       "      <td>3</td>\n",
       "      <td>7.7</td>\n",
       "      <td>SA</td>\n",
       "    </tr>\n",
       "    <tr>\n",
       "      <th>189</th>\n",
       "      <td>Vietnam</td>\n",
       "      <td>111</td>\n",
       "      <td>2</td>\n",
       "      <td>1</td>\n",
       "      <td>2.0</td>\n",
       "      <td>AS</td>\n",
       "    </tr>\n",
       "    <tr>\n",
       "      <th>190</th>\n",
       "      <td>Yemen</td>\n",
       "      <td>6</td>\n",
       "      <td>0</td>\n",
       "      <td>0</td>\n",
       "      <td>0.1</td>\n",
       "      <td>AS</td>\n",
       "    </tr>\n",
       "    <tr>\n",
       "      <th>191</th>\n",
       "      <td>Zambia</td>\n",
       "      <td>32</td>\n",
       "      <td>19</td>\n",
       "      <td>4</td>\n",
       "      <td>2.5</td>\n",
       "      <td>AF</td>\n",
       "    </tr>\n",
       "    <tr>\n",
       "      <th>192</th>\n",
       "      <td>Zimbabwe</td>\n",
       "      <td>64</td>\n",
       "      <td>18</td>\n",
       "      <td>4</td>\n",
       "      <td>4.7</td>\n",
       "      <td>AF</td>\n",
       "    </tr>\n",
       "  </tbody>\n",
       "</table>\n",
       "<p>193 rows × 6 columns</p>\n",
       "</div>"
      ],
      "text/plain": [
       "         country  beer_servings  spirit_servings  wine_servings  \\\n",
       "0    Afghanistan              0                0              0   \n",
       "1        Albania             89              132             54   \n",
       "2        Algeria             25                0             14   \n",
       "3        Andorra            245              138            312   \n",
       "4         Angola            217               57             45   \n",
       "..           ...            ...              ...            ...   \n",
       "188    Venezuela            333              100              3   \n",
       "189      Vietnam            111                2              1   \n",
       "190        Yemen              6                0              0   \n",
       "191       Zambia             32               19              4   \n",
       "192     Zimbabwe             64               18              4   \n",
       "\n",
       "     total_litres_of_pure_alcohol continent  \n",
       "0                             0.0        AS  \n",
       "1                             4.9        EU  \n",
       "2                             0.7        AF  \n",
       "3                            12.4        EU  \n",
       "4                             5.9        AF  \n",
       "..                            ...       ...  \n",
       "188                           7.7        SA  \n",
       "189                           2.0        AS  \n",
       "190                           0.1        AS  \n",
       "191                           2.5        AF  \n",
       "192                           4.7        AF  \n",
       "\n",
       "[193 rows x 6 columns]"
      ]
     },
     "execution_count": 97,
     "metadata": {},
     "output_type": "execute_result"
    }
   ],
   "source": [
    "pd.read_csv('drinks.csv',sep=',')"
   ]
  },
  {
   "cell_type": "code",
   "execution_count": 98,
   "id": "de5b84cd",
   "metadata": {},
   "outputs": [
    {
     "data": {
      "text/html": [
       "<div>\n",
       "<style scoped>\n",
       "    .dataframe tbody tr th:only-of-type {\n",
       "        vertical-align: middle;\n",
       "    }\n",
       "\n",
       "    .dataframe tbody tr th {\n",
       "        vertical-align: top;\n",
       "    }\n",
       "\n",
       "    .dataframe thead th {\n",
       "        text-align: right;\n",
       "    }\n",
       "</style>\n",
       "<table border=\"1\" class=\"dataframe\">\n",
       "  <thead>\n",
       "    <tr style=\"text-align: right;\">\n",
       "      <th></th>\n",
       "      <th>order_id</th>\n",
       "      <th>quantity</th>\n",
       "      <th>item_name</th>\n",
       "      <th>choice_description</th>\n",
       "      <th>item_price</th>\n",
       "    </tr>\n",
       "  </thead>\n",
       "  <tbody>\n",
       "    <tr>\n",
       "      <th>0</th>\n",
       "      <td>1</td>\n",
       "      <td>1</td>\n",
       "      <td>Chips and Fresh Tomato Salsa</td>\n",
       "      <td>NaN</td>\n",
       "      <td>$2.39</td>\n",
       "    </tr>\n",
       "    <tr>\n",
       "      <th>1</th>\n",
       "      <td>1</td>\n",
       "      <td>1</td>\n",
       "      <td>Izze</td>\n",
       "      <td>[Clementine]</td>\n",
       "      <td>$3.39</td>\n",
       "    </tr>\n",
       "    <tr>\n",
       "      <th>2</th>\n",
       "      <td>1</td>\n",
       "      <td>1</td>\n",
       "      <td>Nantucket Nectar</td>\n",
       "      <td>[Apple]</td>\n",
       "      <td>$3.39</td>\n",
       "    </tr>\n",
       "    <tr>\n",
       "      <th>3</th>\n",
       "      <td>1</td>\n",
       "      <td>1</td>\n",
       "      <td>Chips and Tomatillo-Green Chili Salsa</td>\n",
       "      <td>NaN</td>\n",
       "      <td>$2.39</td>\n",
       "    </tr>\n",
       "    <tr>\n",
       "      <th>4</th>\n",
       "      <td>2</td>\n",
       "      <td>2</td>\n",
       "      <td>Chicken Bowl</td>\n",
       "      <td>[Tomatillo-Red Chili Salsa (Hot), [Black Beans...</td>\n",
       "      <td>$16.98</td>\n",
       "    </tr>\n",
       "    <tr>\n",
       "      <th>...</th>\n",
       "      <td>...</td>\n",
       "      <td>...</td>\n",
       "      <td>...</td>\n",
       "      <td>...</td>\n",
       "      <td>...</td>\n",
       "    </tr>\n",
       "    <tr>\n",
       "      <th>4617</th>\n",
       "      <td>1833</td>\n",
       "      <td>1</td>\n",
       "      <td>Steak Burrito</td>\n",
       "      <td>[Fresh Tomato Salsa, [Rice, Black Beans, Sour ...</td>\n",
       "      <td>$11.75</td>\n",
       "    </tr>\n",
       "    <tr>\n",
       "      <th>4618</th>\n",
       "      <td>1833</td>\n",
       "      <td>1</td>\n",
       "      <td>Steak Burrito</td>\n",
       "      <td>[Fresh Tomato Salsa, [Rice, Sour Cream, Cheese...</td>\n",
       "      <td>$11.75</td>\n",
       "    </tr>\n",
       "    <tr>\n",
       "      <th>4619</th>\n",
       "      <td>1834</td>\n",
       "      <td>1</td>\n",
       "      <td>Chicken Salad Bowl</td>\n",
       "      <td>[Fresh Tomato Salsa, [Fajita Vegetables, Pinto...</td>\n",
       "      <td>$11.25</td>\n",
       "    </tr>\n",
       "    <tr>\n",
       "      <th>4620</th>\n",
       "      <td>1834</td>\n",
       "      <td>1</td>\n",
       "      <td>Chicken Salad Bowl</td>\n",
       "      <td>[Fresh Tomato Salsa, [Fajita Vegetables, Lettu...</td>\n",
       "      <td>$8.75</td>\n",
       "    </tr>\n",
       "    <tr>\n",
       "      <th>4621</th>\n",
       "      <td>1834</td>\n",
       "      <td>1</td>\n",
       "      <td>Chicken Salad Bowl</td>\n",
       "      <td>[Fresh Tomato Salsa, [Fajita Vegetables, Pinto...</td>\n",
       "      <td>$8.75</td>\n",
       "    </tr>\n",
       "  </tbody>\n",
       "</table>\n",
       "<p>4622 rows × 5 columns</p>\n",
       "</div>"
      ],
      "text/plain": [
       "      order_id  quantity                              item_name  \\\n",
       "0            1         1           Chips and Fresh Tomato Salsa   \n",
       "1            1         1                                   Izze   \n",
       "2            1         1                       Nantucket Nectar   \n",
       "3            1         1  Chips and Tomatillo-Green Chili Salsa   \n",
       "4            2         2                           Chicken Bowl   \n",
       "...        ...       ...                                    ...   \n",
       "4617      1833         1                          Steak Burrito   \n",
       "4618      1833         1                          Steak Burrito   \n",
       "4619      1834         1                     Chicken Salad Bowl   \n",
       "4620      1834         1                     Chicken Salad Bowl   \n",
       "4621      1834         1                     Chicken Salad Bowl   \n",
       "\n",
       "                                     choice_description item_price  \n",
       "0                                                   NaN     $2.39   \n",
       "1                                          [Clementine]     $3.39   \n",
       "2                                               [Apple]     $3.39   \n",
       "3                                                   NaN     $2.39   \n",
       "4     [Tomatillo-Red Chili Salsa (Hot), [Black Beans...    $16.98   \n",
       "...                                                 ...        ...  \n",
       "4617  [Fresh Tomato Salsa, [Rice, Black Beans, Sour ...    $11.75   \n",
       "4618  [Fresh Tomato Salsa, [Rice, Sour Cream, Cheese...    $11.75   \n",
       "4619  [Fresh Tomato Salsa, [Fajita Vegetables, Pinto...    $11.25   \n",
       "4620  [Fresh Tomato Salsa, [Fajita Vegetables, Lettu...     $8.75   \n",
       "4621  [Fresh Tomato Salsa, [Fajita Vegetables, Pinto...     $8.75   \n",
       "\n",
       "[4622 rows x 5 columns]"
      ]
     },
     "execution_count": 98,
     "metadata": {},
     "output_type": "execute_result"
    }
   ],
   "source": [
    "pandas.read_csv('data.tsv.txt',sep='\\t')"
   ]
  },
  {
   "cell_type": "code",
   "execution_count": null,
   "id": "6935c008",
   "metadata": {},
   "outputs": [],
   "source": []
  },
  {
   "cell_type": "code",
   "execution_count": null,
   "id": "910674aa",
   "metadata": {},
   "outputs": [],
   "source": []
  },
  {
   "cell_type": "code",
   "execution_count": null,
   "id": "80748d2b",
   "metadata": {},
   "outputs": [],
   "source": []
  },
  {
   "cell_type": "code",
   "execution_count": null,
   "id": "5bc3d700",
   "metadata": {},
   "outputs": [],
   "source": []
  },
  {
   "cell_type": "code",
   "execution_count": null,
   "id": "36e4c0c8",
   "metadata": {},
   "outputs": [],
   "source": []
  }
 ],
 "metadata": {
  "kernelspec": {
   "display_name": "Python 3 (ipykernel)",
   "language": "python",
   "name": "python3"
  },
  "language_info": {
   "codemirror_mode": {
    "name": "ipython",
    "version": 3
   },
   "file_extension": ".py",
   "mimetype": "text/x-python",
   "name": "python",
   "nbconvert_exporter": "python",
   "pygments_lexer": "ipython3",
   "version": "3.9.7"
  }
 },
 "nbformat": 4,
 "nbformat_minor": 5
}
