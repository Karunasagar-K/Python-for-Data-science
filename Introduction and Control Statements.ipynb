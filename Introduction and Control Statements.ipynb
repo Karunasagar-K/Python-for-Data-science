{
 "cells": [
  {
   "cell_type": "code",
   "execution_count": 1,
   "id": "f5ee2eef",
   "metadata": {},
   "outputs": [
    {
     "data": {
      "text/plain": [
       "275"
      ]
     },
     "execution_count": 1,
     "metadata": {},
     "output_type": "execute_result"
    }
   ],
   "source": [
    "#add \n",
    "5*55"
   ]
  },
  {
   "cell_type": "code",
   "execution_count": 2,
   "id": "05bf1149",
   "metadata": {
    "scrolled": true
   },
   "outputs": [
    {
     "data": {
      "text/plain": [
       "2"
      ]
     },
     "execution_count": 2,
     "metadata": {},
     "output_type": "execute_result"
    }
   ],
   "source": [
    "5-3"
   ]
  },
  {
   "cell_type": "code",
   "execution_count": 3,
   "id": "cf951ed5",
   "metadata": {},
   "outputs": [
    {
     "name": "stdout",
     "output_type": "stream",
     "text": [
      "KKS\n"
     ]
    }
   ],
   "source": [
    "name = 'KKS'\n",
    "\n",
    "print(name)"
   ]
  },
  {
   "cell_type": "code",
   "execution_count": 4,
   "id": "190aa127",
   "metadata": {},
   "outputs": [
    {
     "name": "stdout",
     "output_type": "stream",
     "text": [
      "St' peters Eng college\n"
     ]
    }
   ],
   "source": [
    "college = \"St' peters Eng college\"\n",
    "print(college)"
   ]
  },
  {
   "cell_type": "code",
   "execution_count": 13,
   "id": "34589e77",
   "metadata": {},
   "outputs": [
    {
     "name": "stdout",
     "output_type": "stream",
     "text": [
      "i am 'good' boy\n"
     ]
    }
   ],
   "source": [
    "about = 'i am \\'good\\' boy'\n",
    "print(about)"
   ]
  },
  {
   "cell_type": "code",
   "execution_count": 10,
   "id": "48be879c",
   "metadata": {},
   "outputs": [
    {
     "name": "stdout",
     "output_type": "stream",
     "text": [
      "Dear Brother\n",
      "Go to people\n",
      "Live with them\n",
      "Start from what they know\n"
     ]
    }
   ],
   "source": [
    "Dravidam= '''Dear Brother\n",
    "Go to people\n",
    "Live with them\n",
    "Start from what they know'''\n",
    "\n",
    "\n",
    "print(Dravidam)"
   ]
  },
  {
   "cell_type": "markdown",
   "id": "4334a570",
   "metadata": {},
   "source": [
    "# Control Statements"
   ]
  },
  {
   "cell_type": "code",
   "execution_count": 20,
   "id": "a36e7bce",
   "metadata": {},
   "outputs": [
    {
     "name": "stdout",
     "output_type": "stream",
     "text": [
      "You can vote in elections in India\n"
     ]
    }
   ],
   "source": [
    "age = 20\n",
    "\n",
    "if age>18:\n",
    "    print(\"You can vote in elections in India\")\n",
    "else:\n",
    "    print(\"You cannot vote in elections in India\")"
   ]
  },
  {
   "cell_type": "code",
   "execution_count": 23,
   "id": "ed261750",
   "metadata": {},
   "outputs": [
    {
     "name": "stdout",
     "output_type": "stream",
     "text": [
      "You can vote in elections in India\n"
     ]
    }
   ],
   "source": [
    "age = 101\n",
    "\n",
    "if age>18 and age<=100:\n",
    "    print(\"You can vote in elections in India\")\n",
    "elif age<0 or age>100:\n",
    "    print(\"Invalid age\")\n",
    "elif age==0:\n",
    "    print(\"Baby\")\n",
    "else:\n",
    "    print(\"You cannot vote in elections in India\")"
   ]
  },
  {
   "cell_type": "code",
   "execution_count": 32,
   "id": "334ad7bb",
   "metadata": {},
   "outputs": [
    {
     "name": "stdout",
     "output_type": "stream",
     "text": [
      "Pls follow your own country:Mali standard\n"
     ]
    }
   ],
   "source": [
    "age = 19\n",
    "country= 'Mali'\n",
    "\n",
    "if country == 'India':\n",
    "    if age > 18:\n",
    "        print('Eligible')\n",
    "    else:\n",
    "        print('Not Eligible')\n",
    "else:\n",
    "    print(\"Pls follow your own country:{} standard\" .format(country))"
   ]
  },
  {
   "cell_type": "code",
   "execution_count": 37,
   "id": "36e558eb",
   "metadata": {},
   "outputs": [
    {
     "name": "stdout",
     "output_type": "stream",
     "text": [
      "Your age is: 18\n"
     ]
    }
   ],
   "source": [
    "age=18\n",
    "if age>0:\n",
    "    print(\"Your age is:\",age)\n",
    "    \n",
    "elif age==100:\n",
    "    print(\"invalid age\")\n",
    "    \n",
    "else:\n",
    "    print(age)"
   ]
  },
  {
   "cell_type": "code",
   "execution_count": null,
   "id": "46dd00aa",
   "metadata": {},
   "outputs": [],
   "source": []
  }
 ],
 "metadata": {
  "kernelspec": {
   "display_name": "Python 3 (ipykernel)",
   "language": "python",
   "name": "python3"
  },
  "language_info": {
   "codemirror_mode": {
    "name": "ipython",
    "version": 3
   },
   "file_extension": ".py",
   "mimetype": "text/x-python",
   "name": "python",
   "nbconvert_exporter": "python",
   "pygments_lexer": "ipython3",
   "version": "3.8.10"
  }
 },
 "nbformat": 4,
 "nbformat_minor": 5
}
